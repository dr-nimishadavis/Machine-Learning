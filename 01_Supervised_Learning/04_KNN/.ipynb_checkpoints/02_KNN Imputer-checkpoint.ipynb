{
 "cells": [
  {
   "cell_type": "markdown",
   "id": "033bec6c-9cc5-4460-b7e9-1ea111bdf7cc",
   "metadata": {},
   "source": [
    "# KNN Imputer"
   ]
  },
  {
   "cell_type": "code",
   "execution_count": null,
   "id": "4a0a2188-7605-46d6-9340-36f14b5adba5",
   "metadata": {},
   "outputs": [],
   "source": []
  }
 ],
 "metadata": {
  "kernelspec": {
   "display_name": "Python 3 (ipykernel)",
   "language": "python",
   "name": "python3"
  },
  "language_info": {
   "codemirror_mode": {
    "name": "ipython",
    "version": 3
   },
   "file_extension": ".py",
   "mimetype": "text/x-python",
   "name": "python",
   "nbconvert_exporter": "python",
   "pygments_lexer": "ipython3",
   "version": "3.12.4"
  }
 },
 "nbformat": 4,
 "nbformat_minor": 5
}
