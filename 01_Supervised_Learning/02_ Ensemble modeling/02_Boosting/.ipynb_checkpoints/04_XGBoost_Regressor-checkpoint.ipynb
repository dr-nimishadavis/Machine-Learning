{
 "cells": [
  {
   "cell_type": "markdown",
   "id": "c5f1db94-ec03-48dd-99f3-b133b87627e5",
   "metadata": {},
   "source": [
    "# XGBoost_Regressor"
   ]
  },
  {
   "cell_type": "code",
   "execution_count": 1,
   "id": "0c8896ab-09b5-450a-b852-aa718a4369ad",
   "metadata": {},
   "outputs": [
    {
     "name": "stdout",
     "output_type": "stream",
     "text": [
      "    train-rmse-mean  train-rmse-std  test-rmse-mean  test-rmse-std\n",
      "0        180.597267        4.548264      184.656181       9.477143\n",
      "1        168.406117        3.987101      175.588374       9.248105\n",
      "2        157.259501        3.758818      167.412913       8.897104\n",
      "3        147.136498        3.589547      160.166359       7.925117\n",
      "4        137.728922        3.262120      154.149506       8.034488\n",
      "..              ...             ...             ...            ...\n",
      "95         7.338372        0.244502       73.054212       2.274877\n",
      "96         7.238834        0.237598       72.985189       2.245142\n",
      "97         7.149678        0.244646       72.946548       2.233207\n",
      "98         7.032876        0.285776       72.896062       2.223736\n",
      "99         6.956368        0.282054       72.868118       2.220656\n",
      "\n",
      "[100 rows x 4 columns]\n"
     ]
    }
   ],
   "source": [
    "import xgboost as xgb\n",
    "from sklearn.datasets import make_regression\n",
    "from sklearn.model_selection import train_test_split\n",
    "\n",
    "# Create a synthetic regression dataset\n",
    "X, y = make_regression(n_samples=1000, n_features=20, noise=0.1, random_state=42)\n",
    "X_train, X_test, y_train, y_test = train_test_split(X, y, test_size=0.2, random_state=42)\n",
    "\n",
    "# Convert data to DMatrix format\n",
    "train_dmatrix = xgb.DMatrix(data=X_train, label=y_train)\n",
    "test_dmatrix = xgb.DMatrix(data=X_test, label=y_test)\n",
    "\n",
    "# Define parameters\n",
    "params = {\n",
    "    \"objective\": \"reg:squarederror\",\n",
    "    \"learning_rate\": 0.1,\n",
    "    \"max_depth\": 5\n",
    "}\n",
    "\n",
    "# Train the model with cross-validation\n",
    "cv_results = xgb.cv(\n",
    "    dtrain=train_dmatrix,\n",
    "    params=params,\n",
    "    nfold=3,\n",
    "    num_boost_round=100,\n",
    "    early_stopping_rounds=10,\n",
    "    metrics=\"rmse\",\n",
    "    as_pandas=True,\n",
    "    seed=42\n",
    ")\n",
    "print(cv_results)\n",
    "\n",
    "# Train the model\n",
    "xgb_reg = xgb.train(params=params, dtrain=train_dmatrix, num_boost_round=100)\n",
    "\n",
    "# Make predictions\n",
    "y_pred = xgb_reg.predict(test_dmatrix)\n"
   ]
  }
 ],
 "metadata": {
  "kernelspec": {
   "display_name": "Python 3 (ipykernel)",
   "language": "python",
   "name": "python3"
  },
  "language_info": {
   "codemirror_mode": {
    "name": "ipython",
    "version": 3
   },
   "file_extension": ".py",
   "mimetype": "text/x-python",
   "name": "python",
   "nbconvert_exporter": "python",
   "pygments_lexer": "ipython3",
   "version": "3.12.4"
  }
 },
 "nbformat": 4,
 "nbformat_minor": 5
}
