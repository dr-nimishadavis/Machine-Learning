{
 "cells": [
  {
   "cell_type": "markdown",
   "id": "75d49acb-9110-4e49-a63b-da397fcc2232",
   "metadata": {},
   "source": [
    "# Logistic Regression - Breast Cancer Classification "
   ]
  },
  {
   "cell_type": "code",
   "execution_count": 241,
   "id": "87c6baaf-85bd-4a80-9edd-613243f79e12",
   "metadata": {},
   "outputs": [],
   "source": [
    "import pandas as pd"
   ]
  },
  {
   "cell_type": "code",
   "execution_count": 242,
   "id": "71dbf076-a5af-47f4-b04e-767f3971ff3b",
   "metadata": {},
   "outputs": [],
   "source": [
    "#load data\n",
    "data=pd.read_csv(r\"data\\breast_cancer_data.csv\")"
   ]
  },
  {
   "cell_type": "code",
   "execution_count": 243,
   "id": "2be5991d-80dd-4a9b-a3d0-d5bf755aa675",
   "metadata": {},
   "outputs": [
    {
     "data": {
      "text/html": [
       "<div>\n",
       "<style scoped>\n",
       "    .dataframe tbody tr th:only-of-type {\n",
       "        vertical-align: middle;\n",
       "    }\n",
       "\n",
       "    .dataframe tbody tr th {\n",
       "        vertical-align: top;\n",
       "    }\n",
       "\n",
       "    .dataframe thead th {\n",
       "        text-align: right;\n",
       "    }\n",
       "</style>\n",
       "<table border=\"1\" class=\"dataframe\">\n",
       "  <thead>\n",
       "    <tr style=\"text-align: right;\">\n",
       "      <th></th>\n",
       "      <th>id</th>\n",
       "      <th>diagnosis</th>\n",
       "      <th>radius_mean</th>\n",
       "      <th>texture_mean</th>\n",
       "      <th>perimeter_mean</th>\n",
       "      <th>area_mean</th>\n",
       "      <th>smoothness_mean</th>\n",
       "      <th>compactness_mean</th>\n",
       "      <th>concavity_mean</th>\n",
       "      <th>concave points_mean</th>\n",
       "      <th>...</th>\n",
       "      <th>texture_worst</th>\n",
       "      <th>perimeter_worst</th>\n",
       "      <th>area_worst</th>\n",
       "      <th>smoothness_worst</th>\n",
       "      <th>compactness_worst</th>\n",
       "      <th>concavity_worst</th>\n",
       "      <th>concave points_worst</th>\n",
       "      <th>symmetry_worst</th>\n",
       "      <th>fractal_dimension_worst</th>\n",
       "      <th>Unnamed: 32</th>\n",
       "    </tr>\n",
       "  </thead>\n",
       "  <tbody>\n",
       "    <tr>\n",
       "      <th>0</th>\n",
       "      <td>842302</td>\n",
       "      <td>M</td>\n",
       "      <td>17.99</td>\n",
       "      <td>10.38</td>\n",
       "      <td>122.80</td>\n",
       "      <td>1001.0</td>\n",
       "      <td>0.11840</td>\n",
       "      <td>0.27760</td>\n",
       "      <td>0.3001</td>\n",
       "      <td>0.14710</td>\n",
       "      <td>...</td>\n",
       "      <td>17.33</td>\n",
       "      <td>184.60</td>\n",
       "      <td>2019.0</td>\n",
       "      <td>0.1622</td>\n",
       "      <td>0.6656</td>\n",
       "      <td>0.7119</td>\n",
       "      <td>0.2654</td>\n",
       "      <td>0.4601</td>\n",
       "      <td>0.11890</td>\n",
       "      <td>NaN</td>\n",
       "    </tr>\n",
       "    <tr>\n",
       "      <th>1</th>\n",
       "      <td>842517</td>\n",
       "      <td>M</td>\n",
       "      <td>20.57</td>\n",
       "      <td>17.77</td>\n",
       "      <td>132.90</td>\n",
       "      <td>1326.0</td>\n",
       "      <td>0.08474</td>\n",
       "      <td>0.07864</td>\n",
       "      <td>0.0869</td>\n",
       "      <td>0.07017</td>\n",
       "      <td>...</td>\n",
       "      <td>23.41</td>\n",
       "      <td>158.80</td>\n",
       "      <td>1956.0</td>\n",
       "      <td>0.1238</td>\n",
       "      <td>0.1866</td>\n",
       "      <td>0.2416</td>\n",
       "      <td>0.1860</td>\n",
       "      <td>0.2750</td>\n",
       "      <td>0.08902</td>\n",
       "      <td>NaN</td>\n",
       "    </tr>\n",
       "    <tr>\n",
       "      <th>2</th>\n",
       "      <td>84300903</td>\n",
       "      <td>M</td>\n",
       "      <td>19.69</td>\n",
       "      <td>21.25</td>\n",
       "      <td>130.00</td>\n",
       "      <td>1203.0</td>\n",
       "      <td>0.10960</td>\n",
       "      <td>0.15990</td>\n",
       "      <td>0.1974</td>\n",
       "      <td>0.12790</td>\n",
       "      <td>...</td>\n",
       "      <td>25.53</td>\n",
       "      <td>152.50</td>\n",
       "      <td>1709.0</td>\n",
       "      <td>0.1444</td>\n",
       "      <td>0.4245</td>\n",
       "      <td>0.4504</td>\n",
       "      <td>0.2430</td>\n",
       "      <td>0.3613</td>\n",
       "      <td>0.08758</td>\n",
       "      <td>NaN</td>\n",
       "    </tr>\n",
       "    <tr>\n",
       "      <th>3</th>\n",
       "      <td>84348301</td>\n",
       "      <td>M</td>\n",
       "      <td>11.42</td>\n",
       "      <td>20.38</td>\n",
       "      <td>77.58</td>\n",
       "      <td>386.1</td>\n",
       "      <td>0.14250</td>\n",
       "      <td>0.28390</td>\n",
       "      <td>0.2414</td>\n",
       "      <td>0.10520</td>\n",
       "      <td>...</td>\n",
       "      <td>26.50</td>\n",
       "      <td>98.87</td>\n",
       "      <td>567.7</td>\n",
       "      <td>0.2098</td>\n",
       "      <td>0.8663</td>\n",
       "      <td>0.6869</td>\n",
       "      <td>0.2575</td>\n",
       "      <td>0.6638</td>\n",
       "      <td>0.17300</td>\n",
       "      <td>NaN</td>\n",
       "    </tr>\n",
       "    <tr>\n",
       "      <th>4</th>\n",
       "      <td>84358402</td>\n",
       "      <td>M</td>\n",
       "      <td>20.29</td>\n",
       "      <td>14.34</td>\n",
       "      <td>135.10</td>\n",
       "      <td>1297.0</td>\n",
       "      <td>0.10030</td>\n",
       "      <td>0.13280</td>\n",
       "      <td>0.1980</td>\n",
       "      <td>0.10430</td>\n",
       "      <td>...</td>\n",
       "      <td>16.67</td>\n",
       "      <td>152.20</td>\n",
       "      <td>1575.0</td>\n",
       "      <td>0.1374</td>\n",
       "      <td>0.2050</td>\n",
       "      <td>0.4000</td>\n",
       "      <td>0.1625</td>\n",
       "      <td>0.2364</td>\n",
       "      <td>0.07678</td>\n",
       "      <td>NaN</td>\n",
       "    </tr>\n",
       "  </tbody>\n",
       "</table>\n",
       "<p>5 rows × 33 columns</p>\n",
       "</div>"
      ],
      "text/plain": [
       "         id diagnosis  radius_mean  texture_mean  perimeter_mean  area_mean  \\\n",
       "0    842302         M        17.99         10.38          122.80     1001.0   \n",
       "1    842517         M        20.57         17.77          132.90     1326.0   \n",
       "2  84300903         M        19.69         21.25          130.00     1203.0   \n",
       "3  84348301         M        11.42         20.38           77.58      386.1   \n",
       "4  84358402         M        20.29         14.34          135.10     1297.0   \n",
       "\n",
       "   smoothness_mean  compactness_mean  concavity_mean  concave points_mean  \\\n",
       "0          0.11840           0.27760          0.3001              0.14710   \n",
       "1          0.08474           0.07864          0.0869              0.07017   \n",
       "2          0.10960           0.15990          0.1974              0.12790   \n",
       "3          0.14250           0.28390          0.2414              0.10520   \n",
       "4          0.10030           0.13280          0.1980              0.10430   \n",
       "\n",
       "   ...  texture_worst  perimeter_worst  area_worst  smoothness_worst  \\\n",
       "0  ...          17.33           184.60      2019.0            0.1622   \n",
       "1  ...          23.41           158.80      1956.0            0.1238   \n",
       "2  ...          25.53           152.50      1709.0            0.1444   \n",
       "3  ...          26.50            98.87       567.7            0.2098   \n",
       "4  ...          16.67           152.20      1575.0            0.1374   \n",
       "\n",
       "   compactness_worst  concavity_worst  concave points_worst  symmetry_worst  \\\n",
       "0             0.6656           0.7119                0.2654          0.4601   \n",
       "1             0.1866           0.2416                0.1860          0.2750   \n",
       "2             0.4245           0.4504                0.2430          0.3613   \n",
       "3             0.8663           0.6869                0.2575          0.6638   \n",
       "4             0.2050           0.4000                0.1625          0.2364   \n",
       "\n",
       "   fractal_dimension_worst  Unnamed: 32  \n",
       "0                  0.11890          NaN  \n",
       "1                  0.08902          NaN  \n",
       "2                  0.08758          NaN  \n",
       "3                  0.17300          NaN  \n",
       "4                  0.07678          NaN  \n",
       "\n",
       "[5 rows x 33 columns]"
      ]
     },
     "execution_count": 243,
     "metadata": {},
     "output_type": "execute_result"
    }
   ],
   "source": [
    "data.head()"
   ]
  },
  {
   "cell_type": "code",
   "execution_count": 244,
   "id": "3d55135a-e6e2-423b-89be-1f27be68d906",
   "metadata": {},
   "outputs": [
    {
     "data": {
      "text/plain": [
       "Index(['id', 'diagnosis', 'radius_mean', 'texture_mean', 'perimeter_mean',\n",
       "       'area_mean', 'smoothness_mean', 'compactness_mean', 'concavity_mean',\n",
       "       'concave points_mean', 'symmetry_mean', 'fractal_dimension_mean',\n",
       "       'radius_se', 'texture_se', 'perimeter_se', 'area_se', 'smoothness_se',\n",
       "       'compactness_se', 'concavity_se', 'concave points_se', 'symmetry_se',\n",
       "       'fractal_dimension_se', 'radius_worst', 'texture_worst',\n",
       "       'perimeter_worst', 'area_worst', 'smoothness_worst',\n",
       "       'compactness_worst', 'concavity_worst', 'concave points_worst',\n",
       "       'symmetry_worst', 'fractal_dimension_worst', 'Unnamed: 32'],\n",
       "      dtype='object')"
      ]
     },
     "execution_count": 244,
     "metadata": {},
     "output_type": "execute_result"
    }
   ],
   "source": [
    "data.columns"
   ]
  },
  {
   "cell_type": "code",
   "execution_count": null,
   "id": "6cf8069f-5339-46dd-9b79-8ad1209d4c91",
   "metadata": {},
   "outputs": [],
   "source": [
    "data=data.drop('Unnamed: 32',axis=1)"
   ]
  },
  {
   "cell_type": "code",
   "execution_count": null,
   "id": "d374c77a-924b-4a88-852b-beb53a19152f",
   "metadata": {},
   "outputs": [],
   "source": [
    "data.head()"
   ]
  },
  {
   "cell_type": "code",
   "execution_count": null,
   "id": "25602e27-3066-4979-9450-97b19a7bbf07",
   "metadata": {},
   "outputs": [],
   "source": [
    "#checking for missing values\n",
    "data.isna().sum()"
   ]
  },
  {
   "cell_type": "code",
   "execution_count": null,
   "id": "d3d63120-85e9-488f-b9d1-7f28cff50f93",
   "metadata": {},
   "outputs": [],
   "source": [
    "data.dtypes"
   ]
  },
  {
   "cell_type": "code",
   "execution_count": null,
   "id": "f6a10d02-5288-4bff-9192-58ce28cb349f",
   "metadata": {},
   "outputs": [],
   "source": [
    "data['diagnosis'].unique()"
   ]
  },
  {
   "cell_type": "code",
   "execution_count": null,
   "id": "f0a1c08e-6d77-4d15-a7b9-b725e624aab4",
   "metadata": {},
   "outputs": [],
   "source": [
    "data['diagnosis'].value_counts()"
   ]
  },
  {
   "cell_type": "code",
   "execution_count": null,
   "id": "a0644f2e-38cb-49d7-abe9-8aba9d2dcb3a",
   "metadata": {},
   "outputs": [],
   "source": [
    "data['id'].nunique()"
   ]
  },
  {
   "cell_type": "code",
   "execution_count": null,
   "id": "dd286f24-09f4-4024-93d2-35fd83357efa",
   "metadata": {},
   "outputs": [],
   "source": [
    "data.shape"
   ]
  },
  {
   "cell_type": "code",
   "execution_count": null,
   "id": "c027f66e-5d9a-4515-bba5-a0b1eb7ce7bc",
   "metadata": {},
   "outputs": [],
   "source": [
    "data.size"
   ]
  },
  {
   "cell_type": "code",
   "execution_count": null,
   "id": "207fa656-9af9-4681-943f-244dfe8bfeda",
   "metadata": {},
   "outputs": [],
   "source": [
    "#map function for mapping benign into 0 and malignant into 1\n",
    "data['diagnosis'] = data['diagnosis'].map({'B':0,'M':1})"
   ]
  },
  {
   "cell_type": "code",
   "execution_count": null,
   "id": "7db0c7e7-f220-4634-9369-be8e0c9d5586",
   "metadata": {},
   "outputs": [],
   "source": [
    "#count of benign and malignant\n",
    "data.groupby('diagnosis').count()['id']"
   ]
  },
  {
   "cell_type": "markdown",
   "id": "19da748d-739e-4cf0-a7a5-8a0631d77cd7",
   "metadata": {},
   "source": [
    "here we don't treat outlier values..\n",
    "coz we are identifying 2 classes..\n",
    "maybe the outlier is the reason for the classes...\n",
    "ex: there will be some upnormal value for cancerous patients"
   ]
  },
  {
   "cell_type": "markdown",
   "id": "5aa24f8f-975e-4d2b-9b0a-209b70fe2b1b",
   "metadata": {},
   "source": [
    "### Spliting the Data into Multiple Inputs(X) & One Target(Y) variables"
   ]
  },
  {
   "cell_type": "code",
   "execution_count": null,
   "id": "63c1bd01-4ce6-46d8-8103-17cbb51a5be5",
   "metadata": {},
   "outputs": [],
   "source": [
    "#ID,Name,Address are mostly not required for modelling.\n",
    "#so in this case id should not be used for training \n",
    "#splitting data into X and y\n",
    "y=data['diagnosis']\n",
    "X=data.drop(['id','diagnosis'],axis=1)"
   ]
  },
  {
   "cell_type": "markdown",
   "id": "a5b849f7-813f-4aa7-9f20-9f2351a25c6c",
   "metadata": {},
   "source": [
    "### Spliting the data into test data & train data"
   ]
  },
  {
   "cell_type": "code",
   "execution_count": null,
   "id": "8cba52dc-f0b8-4fd4-b30d-b499d2400efb",
   "metadata": {},
   "outputs": [],
   "source": [
    "from sklearn.model_selection import train_test_split\n",
    "X_train, X_test, y_train, y_test = train_test_split(X, y, test_size=0.33,random_state=42) #0.67 data will be for training."
   ]
  },
  {
   "cell_type": "markdown",
   "id": "b225ffe5-d51d-414c-8705-0c37db5df2a8",
   "metadata": {},
   "source": [
    "### Logistic Regression"
   ]
  },
  {
   "cell_type": "code",
   "execution_count": null,
   "id": "7f679f2c-e04c-41de-93b8-387c6974d85d",
   "metadata": {},
   "outputs": [],
   "source": [
    "from sklearn.linear_model import LogisticRegression\n",
    "classifier=LogisticRegression()\n",
    "classifier.fit(X_train,y_train) #command for training / fitting the model"
   ]
  },
  {
   "cell_type": "markdown",
   "id": "0eba9e31-4ded-471f-912e-e14c90f0432d",
   "metadata": {},
   "source": [
    "### Prediction"
   ]
  },
  {
   "cell_type": "code",
   "execution_count": null,
   "id": "6de7a0f7-5606-46ca-84e3-e2075fcbbc22",
   "metadata": {},
   "outputs": [],
   "source": [
    "y_pred=classifier.predict(X_test)\n",
    "y_pred"
   ]
  },
  {
   "cell_type": "code",
   "execution_count": null,
   "id": "c76c402f-501c-4855-bb9a-559ef3b0b292",
   "metadata": {},
   "outputs": [],
   "source": [
    "y_test"
   ]
  },
  {
   "cell_type": "markdown",
   "id": "7e91f7e0-cf51-452e-a757-b8c49168202a",
   "metadata": {},
   "source": [
    "### r2 score calculation"
   ]
  },
  {
   "cell_type": "code",
   "execution_count": null,
   "id": "c1414ef9-8394-4d78-ab35-ae552f223b07",
   "metadata": {},
   "outputs": [],
   "source": [
    "from sklearn.metrics import r2_score\n",
    "r2 = r2_score(y_test, y_pred)\n",
    "print(\"R-squared:\", r2)\n"
   ]
  },
  {
   "cell_type": "markdown",
   "id": "e6adbb8d-a59c-4a00-b707-8c62778eac3d",
   "metadata": {},
   "source": [
    "### Notes"
   ]
  },
  {
   "cell_type": "raw",
   "id": "954d8bf4-8c1c-4df2-8b95-5a773134970c",
   "metadata": {},
   "source": [
    "-there are 2 classes,\n",
    "-benign(negative) and Malignant(positive)\n",
    "\n",
    "Ques : what are the errors possible in the prediction?\n",
    "Ans  :\n",
    "\n",
    "there can be 4 outcome,\n",
    "\n",
    "-benign as benign\n",
    "-benign as malignant\n",
    "-malignant as malignant\n",
    "-malignant as benign\n",
    "\n",
    "we can generalize it into negative and positive.\n",
    "\n",
    "True positive - Actual positive - Predicted positive\n",
    "True negative - Actual negative - Predicted negative\n",
    "False positive- Actual negative - Predicted positive\n",
    "False negative- Actual positive - Predicted negative\n",
    "\n",
    "Ques : What are the correct prediction?\n",
    "Ans:\n",
    "\n",
    "True positive\n",
    "True Negative\n",
    "\n",
    "Ques: What are the wrong predictions?\n",
    "Ans:\n",
    "\n",
    "False positive\n",
    "False negative\n",
    "\n",
    "We can derive accuracy from this.\n",
    "Accuracy : Amount of correctnes/Amount of correct predictions\n",
    "Accuracy = (TP+TN)/(FP+FN+TP+TN)\n",
    "\n",
    "We've to calculate TP,TN,FP,FN ,So There is something called Confusion matrix."
   ]
  },
  {
   "cell_type": "markdown",
   "id": "8e64e277-064c-418b-ab90-e64904f83d62",
   "metadata": {},
   "source": [
    "### Confusion Matrix"
   ]
  },
  {
   "cell_type": "markdown",
   "id": "1e31df58-3b5f-42d1-bf23-41483fd28517",
   "metadata": {},
   "source": [
    "A confusion matrix is a table used to evaluate the performance of a classification model, showing how well the model's predictions match the actual labels. It compares the predicted classifications to the true classifications, providing a more detailed understanding of model performance than just accuracy."
   ]
  },
  {
   "cell_type": "raw",
   "id": "4e019742-ff14-488a-b47f-6d0f4ecb9ee7",
   "metadata": {},
   "source": [
    "                                        Predicted Value\n",
    "\n",
    "                                Negative          Positive\n",
    "\n",
    "Actual value : Negative           TN                 FP\n",
    "\n",
    "                                    Actual Value\n",
    "\n",
    "Actual value : Positive           FN                 TP"
   ]
  },
  {
   "cell_type": "code",
   "execution_count": null,
   "id": "aa3d1411-b5ce-4a88-8a08-428900f3be2b",
   "metadata": {},
   "outputs": [],
   "source": [
    "#confusison matrix\n",
    "from sklearn.metrics import confusion_matrix\n",
    "confusion_matrix(y_test,y_pred)"
   ]
  },
  {
   "cell_type": "raw",
   "id": "749f4015-bda5-46b4-9ed5-fb592f4287f3",
   "metadata": {},
   "source": [
    "True Positive (TP): 63\n",
    "True Negative (TN): 118\n",
    "False Positive (FP): 3\n",
    "False Negative (FN): 4"
   ]
  },
  {
   "cell_type": "markdown",
   "id": "4f931ee3-1a81-4a51-a941-fae0a0bc0f34",
   "metadata": {},
   "source": [
    "Let's try it using for loop(Just for learning purpose,not necessary)"
   ]
  },
  {
   "cell_type": "code",
   "execution_count": null,
   "id": "01390ea7-1495-43a6-8892-d1328f61aa13",
   "metadata": {},
   "outputs": [],
   "source": [
    "# Initialize the counts\n",
    "tp = 0  # True Positives\n",
    "tn = 0  # True Negatives\n",
    "fp = 0  # False Positives\n",
    "fn = 0  # False Negatives\n",
    "\n",
    "y_test_list=y_test.tolist()\n",
    "# Assuming y_true and y_pred are lists or arrays containing the actual and predicted labels\n",
    "for i in range(len(y_pred)):\n",
    "    if y_pred[i] == 1:  # Predicted Positive\n",
    "        if y_test_list[i] == 1:  # True Positive\n",
    "            tp += 1\n",
    "        else:  # False Positive\n",
    "            fp += 1\n",
    "    else:  # Predicted Negative\n",
    "        if y_test_list[i] == 1:  # False Negative\n",
    "            fn += 1\n",
    "        else:  # True Negative\n",
    "            tn += 1\n",
    "\n",
    "# Output the confusion matrix\n",
    "print(f\"True Positive (TP): {tp}\")\n",
    "print(f\"True Negative (TN): {tn}\")\n",
    "print(f\"False Positive (FP): {fp}\")\n",
    "print(f\"False Negative (FN): {fn}\")\n"
   ]
  },
  {
   "cell_type": "code",
   "execution_count": null,
   "id": "75f18ed0-045e-47a9-95dc-ebc3db024a6c",
   "metadata": {},
   "outputs": [],
   "source": [
    "#accuracy\n",
    "from sklearn.metrics import accuracy_score\n",
    "accuracy_score(y_test,y_pred)*100"
   ]
  },
  {
   "cell_type": "markdown",
   "id": "4ce6cac4-7bf3-440f-92f4-db0f6ba4a698",
   "metadata": {},
   "source": [
    "Let's calculate manually"
   ]
  },
  {
   "cell_type": "code",
   "execution_count": null,
   "id": "db49b780-761d-4653-9ac5-7aa1c40d5c97",
   "metadata": {},
   "outputs": [],
   "source": [
    "accuracy = (118+63)/(118+3+4+63)*100\n",
    "accuracy"
   ]
  },
  {
   "cell_type": "code",
   "execution_count": null,
   "id": "acd8ec1e-de6b-446b-ba83-71cac0480b4a",
   "metadata": {},
   "outputs": [],
   "source": [
    "y_test.value_counts()\n",
    "# 121 = TN+FP\n",
    "# 67 = TP+FN"
   ]
  },
  {
   "cell_type": "code",
   "execution_count": null,
   "id": "d82d093a-5549-4138-9dcd-e13b564a87e2",
   "metadata": {},
   "outputs": [],
   "source": [
    "#classification_report\n",
    "from sklearn.metrics import classification_report\n",
    "print(classification_report(y_test,y_pred))"
   ]
  },
  {
   "cell_type": "code",
   "execution_count": null,
   "id": "cb200f32-0063-4bc8-b83c-078f2e779167",
   "metadata": {},
   "outputs": [],
   "source": [
    "#END"
   ]
  }
 ],
 "metadata": {
  "kernelspec": {
   "display_name": "Python 3 (ipykernel)",
   "language": "python",
   "name": "python3"
  },
  "language_info": {
   "codemirror_mode": {
    "name": "ipython",
    "version": 3
   },
   "file_extension": ".py",
   "mimetype": "text/x-python",
   "name": "python",
   "nbconvert_exporter": "python",
   "pygments_lexer": "ipython3",
   "version": "3.12.4"
  }
 },
 "nbformat": 4,
 "nbformat_minor": 5
}
