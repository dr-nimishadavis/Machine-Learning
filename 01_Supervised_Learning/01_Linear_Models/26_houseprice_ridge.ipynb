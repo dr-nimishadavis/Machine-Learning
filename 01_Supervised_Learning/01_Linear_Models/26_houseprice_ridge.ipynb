{
 "cells": [
  {
   "cell_type": "code",
   "execution_count": 9,
   "id": "e26ce42b-7d0d-4ab8-9dad-a703dc7add2f",
   "metadata": {},
   "outputs": [],
   "source": [
    "import pandas as pd\n",
    "from sklearn.model_selection import train_test_split\n",
    "from sklearn.preprocessing import StandardScaler\n",
    "from sklearn.linear_model import Ridge\n",
    "from sklearn.metrics import mean_squared_error, r2_score"
   ]
  },
  {
   "cell_type": "code",
   "execution_count": 3,
   "id": "e1f66011-0de0-4800-a387-5926cb2f0e80",
   "metadata": {},
   "outputs": [
    {
     "data": {
      "text/html": [
       "<div>\n",
       "<style scoped>\n",
       "    .dataframe tbody tr th:only-of-type {\n",
       "        vertical-align: middle;\n",
       "    }\n",
       "\n",
       "    .dataframe tbody tr th {\n",
       "        vertical-align: top;\n",
       "    }\n",
       "\n",
       "    .dataframe thead th {\n",
       "        text-align: right;\n",
       "    }\n",
       "</style>\n",
       "<table border=\"1\" class=\"dataframe\">\n",
       "  <thead>\n",
       "    <tr style=\"text-align: right;\">\n",
       "      <th></th>\n",
       "      <th>Square_Footage</th>\n",
       "      <th>Num_Bedrooms</th>\n",
       "      <th>Num_Bathrooms</th>\n",
       "      <th>Year_Built</th>\n",
       "      <th>Lot_Size</th>\n",
       "      <th>Garage_Size</th>\n",
       "      <th>Neighborhood_Quality</th>\n",
       "      <th>House_Price</th>\n",
       "    </tr>\n",
       "  </thead>\n",
       "  <tbody>\n",
       "    <tr>\n",
       "      <th>0</th>\n",
       "      <td>1360</td>\n",
       "      <td>2</td>\n",
       "      <td>1</td>\n",
       "      <td>1981</td>\n",
       "      <td>0.599637</td>\n",
       "      <td>0</td>\n",
       "      <td>5</td>\n",
       "      <td>2.623829e+05</td>\n",
       "    </tr>\n",
       "    <tr>\n",
       "      <th>1</th>\n",
       "      <td>4272</td>\n",
       "      <td>3</td>\n",
       "      <td>3</td>\n",
       "      <td>2016</td>\n",
       "      <td>4.753014</td>\n",
       "      <td>1</td>\n",
       "      <td>6</td>\n",
       "      <td>9.852609e+05</td>\n",
       "    </tr>\n",
       "    <tr>\n",
       "      <th>2</th>\n",
       "      <td>3592</td>\n",
       "      <td>1</td>\n",
       "      <td>2</td>\n",
       "      <td>2016</td>\n",
       "      <td>3.634823</td>\n",
       "      <td>0</td>\n",
       "      <td>9</td>\n",
       "      <td>7.779774e+05</td>\n",
       "    </tr>\n",
       "    <tr>\n",
       "      <th>3</th>\n",
       "      <td>966</td>\n",
       "      <td>1</td>\n",
       "      <td>2</td>\n",
       "      <td>1977</td>\n",
       "      <td>2.730667</td>\n",
       "      <td>1</td>\n",
       "      <td>8</td>\n",
       "      <td>2.296989e+05</td>\n",
       "    </tr>\n",
       "    <tr>\n",
       "      <th>4</th>\n",
       "      <td>4926</td>\n",
       "      <td>2</td>\n",
       "      <td>1</td>\n",
       "      <td>1993</td>\n",
       "      <td>4.699073</td>\n",
       "      <td>0</td>\n",
       "      <td>8</td>\n",
       "      <td>1.041741e+06</td>\n",
       "    </tr>\n",
       "  </tbody>\n",
       "</table>\n",
       "</div>"
      ],
      "text/plain": [
       "   Square_Footage  Num_Bedrooms  Num_Bathrooms  Year_Built  Lot_Size  \\\n",
       "0            1360             2              1        1981  0.599637   \n",
       "1            4272             3              3        2016  4.753014   \n",
       "2            3592             1              2        2016  3.634823   \n",
       "3             966             1              2        1977  2.730667   \n",
       "4            4926             2              1        1993  4.699073   \n",
       "\n",
       "   Garage_Size  Neighborhood_Quality   House_Price  \n",
       "0            0                     5  2.623829e+05  \n",
       "1            1                     6  9.852609e+05  \n",
       "2            0                     9  7.779774e+05  \n",
       "3            1                     8  2.296989e+05  \n",
       "4            0                     8  1.041741e+06  "
      ]
     },
     "execution_count": 3,
     "metadata": {},
     "output_type": "execute_result"
    }
   ],
   "source": [
    "data=pd.read_csv('data/house_price_regression_dataset.csv')\n",
    "data.head()"
   ]
  },
  {
   "cell_type": "code",
   "execution_count": 5,
   "id": "64fa1941-0ac0-4fa4-97b5-41b400a79994",
   "metadata": {},
   "outputs": [
    {
     "data": {
      "text/plain": [
       "0"
      ]
     },
     "execution_count": 5,
     "metadata": {},
     "output_type": "execute_result"
    }
   ],
   "source": [
    "data.duplicated().sum()"
   ]
  },
  {
   "cell_type": "code",
   "execution_count": 7,
   "id": "a1b3dc9f-f6cb-49f3-84a3-be2156a79df7",
   "metadata": {},
   "outputs": [
    {
     "data": {
      "text/plain": [
       "Square_Footage          0\n",
       "Num_Bedrooms            0\n",
       "Num_Bathrooms           0\n",
       "Year_Built              0\n",
       "Lot_Size                0\n",
       "Garage_Size             0\n",
       "Neighborhood_Quality    0\n",
       "House_Price             0\n",
       "dtype: int64"
      ]
     },
     "execution_count": 7,
     "metadata": {},
     "output_type": "execute_result"
    }
   ],
   "source": [
    "data.isna().sum()"
   ]
  },
  {
   "cell_type": "code",
   "execution_count": 13,
   "id": "c896a256-784b-43d0-bc22-a8680edb0671",
   "metadata": {},
   "outputs": [],
   "source": [
    "X = data.drop(columns=[\"House_Price\"])\n",
    "y = data[\"House_Price\"]"
   ]
  },
  {
   "cell_type": "code",
   "execution_count": 15,
   "id": "38b85a3c-2e86-4015-8b28-bbadae986d5a",
   "metadata": {},
   "outputs": [],
   "source": [
    "scaler = StandardScaler()\n",
    "X_scaled = scaler.fit_transform(X)"
   ]
  },
  {
   "cell_type": "code",
   "execution_count": 17,
   "id": "4ff5ceba-eaca-4607-8a7e-30179163fbb5",
   "metadata": {},
   "outputs": [],
   "source": [
    "X_train, X_test, y_train, y_test = train_test_split(X_scaled, y, test_size=0.2, random_state=42)"
   ]
  },
  {
   "cell_type": "markdown",
   "id": "19b14a6f-3532-4c22-a149-538fd56ac859",
   "metadata": {},
   "source": [
    "### Linear Regression"
   ]
  },
  {
   "cell_type": "code",
   "execution_count": 35,
   "id": "da25c67b-876f-4a40-9e54-ed251570a030",
   "metadata": {},
   "outputs": [
    {
     "name": "stdout",
     "output_type": "stream",
     "text": [
      "Linear Regression \n",
      "====================\n",
      "Mean Squared Error: 101434798.50563525\n",
      "Accuracy: 99.84263636823412 %\n",
      "R2: 99.84263636823412 %\n"
     ]
    }
   ],
   "source": [
    "from sklearn.linear_model import LinearRegression\n",
    "linear = LinearRegression()\n",
    "linear.fit(X_train, y_train)\n",
    "y_pred_linear = linear.predict(X_test)\n",
    "linear_mse = mean_squared_error(y_test, y_pred_linear)\n",
    "linear_r2 = r2_score(y_test, y_pred_linear)\n",
    "print(\"Linear Regression \")\n",
    "print(\"=\"*20)\n",
    "print(\"Mean Squared Error:\", linear_mse)\n",
    "accuracy = linear.score(X_test,y_test)\n",
    "print('Accuracy:',accuracy*100,'%')\n",
    "print('R2:',linear_r2*100,'%')"
   ]
  },
  {
   "cell_type": "markdown",
   "id": "650a8a95-b545-4980-b38b-1e5f7173eba6",
   "metadata": {},
   "source": [
    "### Ridge Regression"
   ]
  },
  {
   "cell_type": "code",
   "execution_count": 100,
   "id": "f167673c-d7ee-42dd-968c-cd929bb9407d",
   "metadata": {},
   "outputs": [
    {
     "name": "stdout",
     "output_type": "stream",
     "text": [
      "Ridge Regression \n",
      "====================\n",
      "Accuracy: 99.842621644065 %\n",
      "Ridge Regression R2: 99.842621644065 %\n",
      "Ridge Regression Mean Squared Error: 101444289.53677586\n"
     ]
    }
   ],
   "source": [
    "ridge = Ridge(alpha=.01) \n",
    "ridge.fit(X_train, y_train)\n",
    "y_pred = ridge.predict(X_test)\n",
    "ridge_mse = mean_squared_error(y_test, y_pred)\n",
    "ridge_r2 = r2_score(y_test, y_pred)\n",
    "accuracy = ridge.score(X_test,y_test)\n",
    "\n",
    "print(\"Ridge Regression \")\n",
    "print(\"=\"*20)\n",
    "print('Accuracy:',accuracy*100,'%')\n",
    "print(\"Ridge Regression R2:\", ridge_r2*100,'%')\n",
    "print(\"Ridge Regression Mean Squared Error:\", ridge_mse)"
   ]
  },
  {
   "cell_type": "markdown",
   "id": "5c9b20dc-fc0e-4d57-acba-75e14a9ec29e",
   "metadata": {},
   "source": [
    "### Lasso Regression"
   ]
  },
  {
   "cell_type": "code",
   "execution_count": 37,
   "id": "5626a63d-225f-47d5-aacb-07ec262f3000",
   "metadata": {},
   "outputs": [
    {
     "name": "stdout",
     "output_type": "stream",
     "text": [
      "Lasso Regression \n",
      "====================\n",
      "Mean Squared Error: 101436580.04246059\n",
      "Accuracy: 99.84263360439856 %\n",
      "R2: 99.84263360439856 %\n"
     ]
    }
   ],
   "source": [
    "from sklearn.linear_model import Lasso\n",
    "from sklearn.metrics import mean_squared_error\n",
    "\n",
    "lasso = Lasso(alpha=1.0)\n",
    "lasso.fit(X_train, y_train)\n",
    "y_pred_lasso = lasso.predict(X_test)\n",
    "lasso_mse = mean_squared_error(y_test, y_pred_lasso)\n",
    "lasso_r2 = r2_score(y_test, y_pred_lasso)\n",
    "\n",
    "print(\"Lasso Regression \")\n",
    "print(\"=\"*20)\n",
    "print(\"Mean Squared Error:\", lasso_mse)\n",
    "accuracy = lasso.score(X_test,y_test)\n",
    "print('Accuracy:',accuracy*100,'%')\n",
    "print('R2:',lasso_r2*100,'%')"
   ]
  },
  {
   "cell_type": "code",
   "execution_count": 98,
   "id": "9800b3f8-2f7c-44cb-8f7d-147949c83988",
   "metadata": {},
   "outputs": [],
   "source": [
    "#END"
   ]
  }
 ],
 "metadata": {
  "kernelspec": {
   "display_name": "Python 3 (ipykernel)",
   "language": "python",
   "name": "python3"
  },
  "language_info": {
   "codemirror_mode": {
    "name": "ipython",
    "version": 3
   },
   "file_extension": ".py",
   "mimetype": "text/x-python",
   "name": "python",
   "nbconvert_exporter": "python",
   "pygments_lexer": "ipython3",
   "version": "3.12.4"
  }
 },
 "nbformat": 4,
 "nbformat_minor": 5
}
