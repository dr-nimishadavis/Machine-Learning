{
 "cells": [
  {
   "cell_type": "code",
   "execution_count": 1,
   "id": "1913d19e-5382-4e1d-bc38-d6362cf3560c",
   "metadata": {},
   "outputs": [],
   "source": [
    "import pandas as pd\n",
    "import numpy as np\n",
    "import matplotlib.pyplot as plt\n",
    "import seaborn as sns\n",
    "import warnings\n",
    "warnings.filterwarnings('ignore')\n",
    "\n",
    "\n",
    "from sklearn.model_selection import train_test_split\n",
    "from sklearn.preprocessing import StandardScaler,LabelEncoder\n",
    "\n",
    "\n",
    "from sklearn.ensemble import RandomForestClassifier,AdaBoostClassifier, GradientBoostingClassifier\n",
    "from sklearn.linear_model import LogisticRegression\n",
    "from sklearn.svm import SVC\n",
    "from sklearn.neighbors import KNeighborsClassifier\n",
    "from sklearn.naive_bayes import GaussianNB\n",
    "from sklearn.tree import DecisionTreeClassifier\n",
    "from xgboost import XGBClassifier\n",
    "\n",
    "\n",
    "from sklearn.metrics import accuracy_score, classification_report"
   ]
  },
  {
   "cell_type": "code",
   "execution_count": 20,
   "id": "b222ad1d-a60a-4c1e-9b2e-5262e2b480c3",
   "metadata": {},
   "outputs": [
    {
     "data": {
      "text/html": [
       "<div>\n",
       "<style scoped>\n",
       "    .dataframe tbody tr th:only-of-type {\n",
       "        vertical-align: middle;\n",
       "    }\n",
       "\n",
       "    .dataframe tbody tr th {\n",
       "        vertical-align: top;\n",
       "    }\n",
       "\n",
       "    .dataframe thead th {\n",
       "        text-align: right;\n",
       "    }\n",
       "</style>\n",
       "<table border=\"1\" class=\"dataframe\">\n",
       "  <thead>\n",
       "    <tr style=\"text-align: right;\">\n",
       "      <th></th>\n",
       "      <th>Name</th>\n",
       "      <th>Surname</th>\n",
       "      <th>Age</th>\n",
       "      <th>Smokes</th>\n",
       "      <th>AreaQ</th>\n",
       "      <th>Alkhol</th>\n",
       "      <th>Result</th>\n",
       "    </tr>\n",
       "  </thead>\n",
       "  <tbody>\n",
       "    <tr>\n",
       "      <th>0</th>\n",
       "      <td>John</td>\n",
       "      <td>Wick</td>\n",
       "      <td>35</td>\n",
       "      <td>3</td>\n",
       "      <td>5</td>\n",
       "      <td>4</td>\n",
       "      <td>1</td>\n",
       "    </tr>\n",
       "    <tr>\n",
       "      <th>1</th>\n",
       "      <td>John</td>\n",
       "      <td>Constantine</td>\n",
       "      <td>27</td>\n",
       "      <td>20</td>\n",
       "      <td>2</td>\n",
       "      <td>5</td>\n",
       "      <td>1</td>\n",
       "    </tr>\n",
       "    <tr>\n",
       "      <th>2</th>\n",
       "      <td>Camela</td>\n",
       "      <td>Anderson</td>\n",
       "      <td>30</td>\n",
       "      <td>0</td>\n",
       "      <td>5</td>\n",
       "      <td>2</td>\n",
       "      <td>0</td>\n",
       "    </tr>\n",
       "    <tr>\n",
       "      <th>3</th>\n",
       "      <td>Alex</td>\n",
       "      <td>Telles</td>\n",
       "      <td>28</td>\n",
       "      <td>0</td>\n",
       "      <td>8</td>\n",
       "      <td>1</td>\n",
       "      <td>0</td>\n",
       "    </tr>\n",
       "    <tr>\n",
       "      <th>4</th>\n",
       "      <td>Diego</td>\n",
       "      <td>Maradona</td>\n",
       "      <td>68</td>\n",
       "      <td>4</td>\n",
       "      <td>5</td>\n",
       "      <td>6</td>\n",
       "      <td>1</td>\n",
       "    </tr>\n",
       "  </tbody>\n",
       "</table>\n",
       "</div>"
      ],
      "text/plain": [
       "     Name      Surname  Age  Smokes  AreaQ  Alkhol  Result\n",
       "0    John         Wick   35       3      5       4       1\n",
       "1    John  Constantine   27      20      2       5       1\n",
       "2  Camela     Anderson   30       0      5       2       0\n",
       "3    Alex       Telles   28       0      8       1       0\n",
       "4   Diego     Maradona   68       4      5       6       1"
      ]
     },
     "execution_count": 20,
     "metadata": {},
     "output_type": "execute_result"
    }
   ],
   "source": [
    "data=pd.read_csv('../data/lung_cancer_examples (2) (1).csv')\n",
    "data.head()"
   ]
  },
  {
   "cell_type": "markdown",
   "id": "0b70b7c7-ce73-416e-9afb-efb05b485427",
   "metadata": {},
   "source": [
    "### EDA"
   ]
  },
  {
   "cell_type": "code",
   "execution_count": 21,
   "id": "22214eb9-9515-43fc-8cbf-011931b4a4a7",
   "metadata": {},
   "outputs": [
    {
     "data": {
      "text/plain": [
       "(59, 7)"
      ]
     },
     "execution_count": 21,
     "metadata": {},
     "output_type": "execute_result"
    }
   ],
   "source": [
    "data.shape"
   ]
  },
  {
   "cell_type": "code",
   "execution_count": 22,
   "id": "e52e5b2b-717d-460a-ae4d-a1d9c4a4d68c",
   "metadata": {},
   "outputs": [
    {
     "data": {
      "text/plain": [
       "413"
      ]
     },
     "execution_count": 22,
     "metadata": {},
     "output_type": "execute_result"
    }
   ],
   "source": [
    "data.size"
   ]
  },
  {
   "cell_type": "code",
   "execution_count": 23,
   "id": "5fbf7059-4282-454f-89aa-02c926a96248",
   "metadata": {},
   "outputs": [
    {
     "data": {
      "text/plain": [
       "0"
      ]
     },
     "execution_count": 23,
     "metadata": {},
     "output_type": "execute_result"
    }
   ],
   "source": [
    "data.duplicated().sum()"
   ]
  },
  {
   "cell_type": "code",
   "execution_count": 24,
   "id": "3d03fe07-913d-49f4-aa31-2397c6e3a9e5",
   "metadata": {},
   "outputs": [
    {
     "data": {
      "text/plain": [
       "Name       0\n",
       "Surname    0\n",
       "Age        0\n",
       "Smokes     0\n",
       "AreaQ      0\n",
       "Alkhol     0\n",
       "Result     0\n",
       "dtype: int64"
      ]
     },
     "execution_count": 24,
     "metadata": {},
     "output_type": "execute_result"
    }
   ],
   "source": [
    "data.isna().sum()"
   ]
  },
  {
   "cell_type": "code",
   "execution_count": 25,
   "id": "1b4c2b12-1d5f-407d-ba70-b17c450ed13f",
   "metadata": {},
   "outputs": [
    {
     "data": {
      "text/plain": [
       "Name       object\n",
       "Surname    object\n",
       "Age         int64\n",
       "Smokes      int64\n",
       "AreaQ       int64\n",
       "Alkhol      int64\n",
       "Result      int64\n",
       "dtype: object"
      ]
     },
     "execution_count": 25,
     "metadata": {},
     "output_type": "execute_result"
    }
   ],
   "source": [
    "data.dtypes"
   ]
  },
  {
   "cell_type": "code",
   "execution_count": 26,
   "id": "a587ef8e-90d6-432c-86ce-9790d4f4bf61",
   "metadata": {},
   "outputs": [
    {
     "data": {
      "text/html": [
       "<div>\n",
       "<style scoped>\n",
       "    .dataframe tbody tr th:only-of-type {\n",
       "        vertical-align: middle;\n",
       "    }\n",
       "\n",
       "    .dataframe tbody tr th {\n",
       "        vertical-align: top;\n",
       "    }\n",
       "\n",
       "    .dataframe thead th {\n",
       "        text-align: right;\n",
       "    }\n",
       "</style>\n",
       "<table border=\"1\" class=\"dataframe\">\n",
       "  <thead>\n",
       "    <tr style=\"text-align: right;\">\n",
       "      <th></th>\n",
       "      <th>Name</th>\n",
       "      <th>Surname</th>\n",
       "      <th>Age</th>\n",
       "      <th>Smokes</th>\n",
       "      <th>AreaQ</th>\n",
       "      <th>Alkhol</th>\n",
       "      <th>Result</th>\n",
       "    </tr>\n",
       "  </thead>\n",
       "  <tbody>\n",
       "    <tr>\n",
       "      <th>0</th>\n",
       "      <td>John</td>\n",
       "      <td>Wick</td>\n",
       "      <td>35</td>\n",
       "      <td>3</td>\n",
       "      <td>5</td>\n",
       "      <td>4</td>\n",
       "      <td>1</td>\n",
       "    </tr>\n",
       "    <tr>\n",
       "      <th>1</th>\n",
       "      <td>John</td>\n",
       "      <td>Constantine</td>\n",
       "      <td>27</td>\n",
       "      <td>20</td>\n",
       "      <td>2</td>\n",
       "      <td>5</td>\n",
       "      <td>1</td>\n",
       "    </tr>\n",
       "    <tr>\n",
       "      <th>2</th>\n",
       "      <td>Camela</td>\n",
       "      <td>Anderson</td>\n",
       "      <td>30</td>\n",
       "      <td>0</td>\n",
       "      <td>5</td>\n",
       "      <td>2</td>\n",
       "      <td>0</td>\n",
       "    </tr>\n",
       "    <tr>\n",
       "      <th>3</th>\n",
       "      <td>Alex</td>\n",
       "      <td>Telles</td>\n",
       "      <td>28</td>\n",
       "      <td>0</td>\n",
       "      <td>8</td>\n",
       "      <td>1</td>\n",
       "      <td>0</td>\n",
       "    </tr>\n",
       "    <tr>\n",
       "      <th>4</th>\n",
       "      <td>Diego</td>\n",
       "      <td>Maradona</td>\n",
       "      <td>68</td>\n",
       "      <td>4</td>\n",
       "      <td>5</td>\n",
       "      <td>6</td>\n",
       "      <td>1</td>\n",
       "    </tr>\n",
       "  </tbody>\n",
       "</table>\n",
       "</div>"
      ],
      "text/plain": [
       "     Name      Surname  Age  Smokes  AreaQ  Alkhol  Result\n",
       "0    John         Wick   35       3      5       4       1\n",
       "1    John  Constantine   27      20      2       5       1\n",
       "2  Camela     Anderson   30       0      5       2       0\n",
       "3    Alex       Telles   28       0      8       1       0\n",
       "4   Diego     Maradona   68       4      5       6       1"
      ]
     },
     "execution_count": 26,
     "metadata": {},
     "output_type": "execute_result"
    }
   ],
   "source": [
    "data.head()"
   ]
  },
  {
   "cell_type": "markdown",
   "id": "85651011-d931-4cea-86cd-56fbef771599",
   "metadata": {},
   "source": [
    "### Outlier handling"
   ]
  },
  {
   "cell_type": "code",
   "execution_count": 27,
   "id": "b122e8a0-820c-43a7-a461-97cc66a86638",
   "metadata": {},
   "outputs": [
    {
     "data": {
      "image/png": "[encoded data removed]",
      "text/plain": [
       "<Figure size 600x400 with 1 Axes>"
      ]
     },
     "metadata": {},
     "output_type": "display_data"
    },
    {
     "data": {
      "image/png": "[encoded data removed]",
      "text/plain": [
       "<Figure size 600x400 with 1 Axes>"
      ]
     },
     "metadata": {},
     "output_type": "display_data"
    },
    {
     "data": {
      "image/png": "[encoded data removed]",
      "text/plain": [
       "<Figure size 600x400 with 1 Axes>"
      ]
     },
     "metadata": {},
     "output_type": "display_data"
    },
    {
     "data": {
      "image/png": "[encoded data removed]",
      "text/plain": [
       "<Figure size 600x400 with 1 Axes>"
      ]
     },
     "metadata": {},
     "output_type": "display_data"
    },
    {
     "data": {
      "image/png": "[encoded data removed]",
      "text/plain": [
       "<Figure size 600x400 with 1 Axes>"
      ]
     },
     "metadata": {},
     "output_type": "display_data"
    }
   ],
   "source": [
    "data.columns = data.columns.str.strip()\n",
    "numeric_columns = data.select_dtypes(include=[np.number]).columns\n",
    "for col in numeric_columns:\n",
    "    plt.figure(figsize=(6, 4))  \n",
    "    sns.boxplot(x=data[col])    \n",
    "    plt.title(f\"Boxplot for {col}\")  \n",
    "    plt.show()"
   ]
  },
  {
   "cell_type": "markdown",
   "id": "3d105eeb-d828-45ec-ac6f-2fe69d889fa0",
   "metadata": {},
   "source": [
    "### Splitting data"
   ]
  },
  {
   "cell_type": "code",
   "execution_count": 28,
   "id": "bd15e4d0-bed2-4e50-9347-c93b6460b28b",
   "metadata": {},
   "outputs": [],
   "source": [
    "X = data[['Age', 'Smokes', 'AreaQ', 'Alkhol']] \n",
    "y = data['Result']  \n",
    "\n",
    "# Feature scaling\n",
    "scaler = StandardScaler()\n",
    "X_scaled = scaler.fit_transform(X)\n",
    "\n",
    "# Train-test split\n",
    "X_train, X_test, y_train, y_test = train_test_split(X_scaled, y, test_size=0.2, random_state=42)"
   ]
  },
  {
   "cell_type": "markdown",
   "id": "1b7d1961-1ba5-4603-985e-5a9382ae4bdc",
   "metadata": {},
   "source": [
    "### PCA"
   ]
  },
  {
   "cell_type": "code",
   "execution_count": 30,
   "id": "3fc55a9e-ef64-4f74-82e9-893fc7135a4a",
   "metadata": {},
   "outputs": [
    {
     "data": {
      "text/plain": [
       "array([[ 1.2102726 , -0.27195079,  0.35098549, -0.46188613],\n",
       "       [ 0.88622578, -0.15419698,  0.32214213, -0.76935379],\n",
       "       [-1.63101032, -1.13271078, -0.8688037 , -0.54509613],\n",
       "       [-2.30634535,  0.8557104 , -0.35192387, -0.09935374],\n",
       "       [-1.87663783, -0.90368689,  1.48546872,  0.07015667],\n",
       "       [ 0.76057752, -1.91075732, -0.56000962,  0.97643586],\n",
       "       [-1.33559783,  0.66678695, -0.50417665, -0.33310376],\n",
       "       [ 0.5857898 , -1.75948389,  0.52665815,  1.30492111],\n",
       "       [-0.60165826,  0.22804568, -0.46081537, -0.31833566],\n",
       "       [-0.77453558, -0.17046328, -0.17495465, -0.08964043],\n",
       "       [-0.97913559,  0.17777385,  0.20292701,  0.11094415],\n",
       "       [ 1.07241381, -1.21601464,  1.28458073, -0.08793108],\n",
       "       [-1.37992117,  0.34638252,  0.73245865, -0.0355847 ],\n",
       "       [ 0.98046144, -0.07036234,  0.09368379,  0.20189362],\n",
       "       [-1.9866922 ,  0.11225472,  0.09930945, -0.19846815],\n",
       "       [-0.76103473,  0.3028598 , -0.05329506, -0.12228677],\n",
       "       [ 1.18814982,  0.75190598, -0.04043512, -0.06605558],\n",
       "       [ 1.69451595, -2.35412334, -0.96813274,  0.19952353],\n",
       "       [ 1.47428972, -0.04480106,  0.89468332, -0.59118314],\n",
       "       [ 1.61126565, -1.4098737 ,  0.31744656, -0.13084349],\n",
       "       [-1.70965947, -0.53207353,  0.49037833, -0.2843673 ],\n",
       "       [-1.10589903,  0.89966679, -1.13971174,  0.44002282],\n",
       "       [ 2.3163709 ,  0.12263925, -1.10118083,  0.54314934],\n",
       "       [ 2.62918518,  2.59167245, -0.00979304,  0.26590782],\n",
       "       [ 1.27920199,  0.20008114, -0.11581213, -0.64886366],\n",
       "       [ 0.81279036, -0.81746249,  0.31849293,  0.447948  ],\n",
       "       [ 1.84644846,  0.78853024, -0.60084427,  0.39908423],\n",
       "       [ 1.29490835, -0.46522683,  0.60596869,  0.08542007],\n",
       "       [ 1.04918336,  1.37098383, -0.86910654, -0.16959769],\n",
       "       [-1.90795542, -0.10791693, -0.35493701,  0.22300932],\n",
       "       [-1.24974441, -0.45175828, -1.82028174,  0.00594284],\n",
       "       [-0.95074096,  0.96008202,  0.68502905,  1.20180446],\n",
       "       [-0.44028376, -0.01608521, -0.76420716,  0.06803173],\n",
       "       [-1.33811331,  1.22154815,  0.43128471,  0.34042297],\n",
       "       [-1.79359501, -0.87862227, -0.29610328,  0.2160099 ],\n",
       "       [ 0.04013131, -0.08338141,  0.82006835, -0.01019239],\n",
       "       [-2.3281408 , -0.43952694, -0.65629464, -0.01670191],\n",
       "       [-0.88060138,  1.42215633, -0.05107721, -0.13264649],\n",
       "       [ 0.15310627, -1.60506034, -0.66166042, -0.23413099],\n",
       "       [-1.36491502,  0.22089933,  1.98573788, -0.34898437],\n",
       "       [ 1.18627164, -0.42855709, -0.55350651, -1.14616437],\n",
       "       [-0.9400185 ,  0.84676948, -0.97265671, -0.20393405],\n",
       "       [ 0.90193214, -0.81950494,  1.04392296, -0.03507006],\n",
       "       [ 1.65734733,  1.44077365,  0.00282551,  1.14943875],\n",
       "       [ 1.64647432, -0.0217789 , -0.16145865, -0.92834796],\n",
       "       [ 2.33246738,  1.3369783 ,  0.29173263, -0.42003124],\n",
       "       [-0.96754514,  1.20087932,  1.12539365,  0.17808782]])"
      ]
     },
     "execution_count": 30,
     "metadata": {},
     "output_type": "execute_result"
    }
   ],
   "source": [
    "from sklearn.decomposition import PCA\n",
    "pca=PCA(n_components=4)\n",
    "X_train=pca.fit_transform(X_train)\n",
    "X_test=pca.transform(X_test)\n",
    "X_train"
   ]
  },
  {
   "cell_type": "code",
   "execution_count": 33,
   "id": "41f9876a-6199-4408-ae67-5a4fbf3e6de9",
   "metadata": {},
   "outputs": [
    {
     "name": "stdout",
     "output_type": "stream",
     "text": [
      "Explained Variance Ratio for each component:\n",
      "[0.52887913 0.25784029 0.14894547 0.06433511]\n",
      "\n",
      "Total Explained Variance: 0.9999999999999999\n"
     ]
    }
   ],
   "source": [
    "# Access the explained variance ratio from the PCA object\n",
    "explained_variance_ratio = pca.explained_variance_ratio_\n",
    "\n",
    "# Display the explained variance ratio for each component\n",
    "print(\"Explained Variance Ratio for each component:\")\n",
    "print(explained_variance_ratio)\n",
    "\n",
    "# If you want to display the total variance explained by all components:\n",
    "total_explained_variance = sum(explained_variance_ratio)\n",
    "print(\"\\nTotal Explained Variance:\", total_explained_variance)"
   ]
  },
  {
   "cell_type": "markdown",
   "id": "444157a8-cdb4-4302-93c1-5101641c3708",
   "metadata": {},
   "source": [
    "### Modeling"
   ]
  },
  {
   "cell_type": "code",
   "execution_count": 31,
   "id": "05ee4858-19b4-4f94-8866-24d58c77007a",
   "metadata": {},
   "outputs": [
    {
     "name": "stdout",
     "output_type": "stream",
     "text": [
      "Random Forest Classifier Accuracy: 91.67%\n",
      "Logistic Regression Accuracy: 91.67%\n",
      "SVM Accuracy: 91.67%\n",
      "KNN Accuracy: 91.67%\n",
      "Naive Bayes Accuracy: 91.67%\n",
      "Decision Tree Accuracy: 91.67%\n",
      "AdaBoost Accuracy: 91.67%\n",
      "Gradient Boosting Accuracy: 91.67%\n",
      "XGBoost Accuracy: 91.67%\n"
     ]
    }
   ],
   "source": [
    "classifiers = {\n",
    "    'Random Forest Classifier': RandomForestClassifier(n_estimators=47, random_state=34),\n",
    "    'Logistic Regression': LogisticRegression(random_state=42),\n",
    "    'SVM': SVC(kernel='linear'),\n",
    "    'KNN': KNeighborsClassifier(n_neighbors=5),\n",
    "    'Naive Bayes': GaussianNB(),\n",
    "    'Decision Tree': DecisionTreeClassifier(random_state=42, max_depth=5),\n",
    "    'AdaBoost': AdaBoostClassifier(n_estimators=50, random_state=42, learning_rate=0.3),\n",
    "    'Gradient Boosting': GradientBoostingClassifier(n_estimators=600, learning_rate=0.05, random_state=42),\n",
    "    'XGBoost': XGBClassifier(n_estimators=100, learning_rate=0.1, max_depth=3, random_state=42, use_label_encoder=False, eval_metric='mlogloss')\n",
    "}\n",
    "\n",
    "for name, clf in classifiers.items():\n",
    "    clf.fit(X_train, y_train)  \n",
    "    y_pred = clf.predict(X_test)  \n",
    "    accuracy = accuracy_score(y_test, y_pred)\n",
    "    print(f'{name} Accuracy: {accuracy * 100:.2f}%')"
   ]
  },
  {
   "cell_type": "code",
   "execution_count": 19,
   "id": "36a7716d-66b7-4fc5-a58e-0070a4c2b64d",
   "metadata": {},
   "outputs": [],
   "source": [
    "#END"
   ]
  }
 ],
 "metadata": {
  "kernelspec": {
   "display_name": "Python 3 (ipykernel)",
   "language": "python",
   "name": "python3"
  },
  "language_info": {
   "codemirror_mode": {
    "name": "ipython",
    "version": 3
   },
   "file_extension": ".py",
   "mimetype": "text/x-python",
   "name": "python",
   "nbconvert_exporter": "python",
   "pygments_lexer": "ipython3",
   "version": "3.12.5"
  }
 },
 "nbformat": 4,
 "nbformat_minor": 5
}
