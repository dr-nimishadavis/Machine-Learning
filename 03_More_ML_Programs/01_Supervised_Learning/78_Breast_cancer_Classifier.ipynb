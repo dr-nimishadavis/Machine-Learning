{
 "cells": [
  {
   "cell_type": "code",
   "execution_count": null,
   "id": "75f53b7f-285d-4034-be14-63a8811852a6",
   "metadata": {},
   "outputs": [],
   "source": [
    "import pandas as pd\n",
    "import numpy as np\n",
    "import matplotlib.pyplot as plt\n",
    "import seaborn as sns\n",
    "import warnings\n",
    "warnings.filterwarnings('ignore')\n",
    "\n",
    "\n",
    "from sklearn.model_selection import train_test_split\n",
    "from sklearn.preprocessing import StandardScaler,LabelEncoder\n",
    "\n",
    "\n",
    "from sklearn.ensemble import RandomForestClassifier,AdaBoostClassifier, GradientBoostingClassifier\n",
    "from sklearn.linear_model import LogisticRegression\n",
    "from sklearn.svm import SVC\n",
    "from sklearn.neighbors import KNeighborsClassifier\n",
    "from sklearn.naive_bayes import GaussianNB\n",
    "from sklearn.tree import DecisionTreeClassifier\n",
    "from xgboost import XGBClassifier\n",
    "\n",
    "\n",
    "from sklearn.metrics import accuracy_score, classification_report"
   ]
  },
  {
   "cell_type": "code",
   "execution_count": null,
   "id": "2a853ceb-6e0a-4297-9eb5-e84bac2faf2f",
   "metadata": {},
   "outputs": [],
   "source": [
    "data=pd.read_csv('../data/Breast_Cancer_Global_Dataset.csv')\n",
    "data.head()"
   ]
  },
  {
   "cell_type": "markdown",
   "id": "295fb25a-7b0d-4cdf-8376-a07d0f1a6806",
   "metadata": {},
   "source": [
    "### Preprocessing"
   ]
  },
  {
   "cell_type": "code",
   "execution_count": null,
   "id": "0e971ee8-4240-4305-abd3-7fe5a6d685b2",
   "metadata": {},
   "outputs": [],
   "source": [
    "data.shape"
   ]
  },
  {
   "cell_type": "code",
   "execution_count": null,
   "id": "a0ab3dba-c969-40cc-979a-2d9db5859292",
   "metadata": {},
   "outputs": [],
   "source": [
    "data.isna().sum()"
   ]
  },
  {
   "cell_type": "code",
   "execution_count": null,
   "id": "f07d7f21-2438-4545-821c-43fe663e8f6b",
   "metadata": {},
   "outputs": [],
   "source": [
    "data.duplicated().sum()"
   ]
  },
  {
   "cell_type": "code",
   "execution_count": null,
   "id": "3e27252a-052e-4fce-96a0-f4968132e10c",
   "metadata": {},
   "outputs": [],
   "source": [
    "data.isnull().sum()"
   ]
  },
  {
   "cell_type": "code",
   "execution_count": null,
   "id": "92a985d3-42c3-41de-bb1d-57f030d2059f",
   "metadata": {},
   "outputs": [],
   "source": [
    "data.dtypes"
   ]
  },
  {
   "cell_type": "code",
   "execution_count": null,
   "id": "6a49fe87-bf59-416f-80e9-bdafc14f3b82",
   "metadata": {},
   "outputs": [],
   "source": [
    "label_encoder = LabelEncoder()\n",
    "data['Country'] = label_encoder.fit_transform(data['Country'])\n",
    "data['Region'] = label_encoder.fit_transform(data['Region'])\n",
    "data['Education_Level'] = label_encoder.fit_transform(data['Education_Level'])\n",
    "data['HDI_Category'] = label_encoder.fit_transform(data['HDI_Category'])"
   ]
  },
  {
   "cell_type": "code",
   "execution_count": null,
   "id": "4284030e-5435-44d8-af39-aea9d55d0f88",
   "metadata": {},
   "outputs": [],
   "source": [
    "data.dtypes"
   ]
  },
  {
   "cell_type": "code",
   "execution_count": null,
   "id": "de1c7ca4-ff95-4ca0-bd43-b3f7859b2908",
   "metadata": {
    "scrolled": true
   },
   "outputs": [],
   "source": [
    "data.columns = data.columns.str.strip()\n",
    "numeric_columns = data.select_dtypes(include=[np.number]).columns\n",
    "for col in numeric_columns:\n",
    "    plt.figure(figsize=(6, 4))  \n",
    "    sns.boxplot(x=data[col])    \n",
    "    plt.title(f\"Boxplot for {col}\")  \n",
    "    plt.show()"
   ]
  },
  {
   "cell_type": "code",
   "execution_count": null,
   "id": "1d87426a-f3aa-49ef-b6c5-73272359e0d1",
   "metadata": {},
   "outputs": [],
   "source": [
    "def handle_outliers_clip(data):\n",
    "    for col in data.select_dtypes(include=[np.number]).columns:\n",
    "        Q1 = data[col].quantile(0.25)\n",
    "        Q3 = data[col].quantile(0.75)\n",
    "        IQR = Q3 - Q1\n",
    "        lower_bound = Q1 - 1.5 * IQR\n",
    "        upper_bound = Q3 + 1.5 * IQR\n",
    "        data[col] = data[col].clip(lower=lower_bound, upper=upper_bound)    \n",
    "    return data\n",
    "\n",
    "data_no_outliers_clip = handle_outliers_clip(data)\n",
    "print(data_no_outliers_clip.head())"
   ]
  },
  {
   "cell_type": "code",
   "execution_count": null,
   "id": "c0e59373-9134-4b33-9b16-c24120ac4480",
   "metadata": {
    "scrolled": true
   },
   "outputs": [],
   "source": [
    "# checking if outliers still exist\n",
    "data.columns = data.columns.str.strip()\n",
    "numeric_columns = data.select_dtypes(include=[np.number]).columns\n",
    "for col in numeric_columns:\n",
    "    plt.figure(figsize=(6, 4))  \n",
    "    sns.boxplot(x=data[col])    \n",
    "    plt.title(f\"Boxplot for {col}\")  \n",
    "    plt.show()"
   ]
  },
  {
   "cell_type": "markdown",
   "id": "1739aec7-753a-43ee-8ad3-4050b84b8c27",
   "metadata": {},
   "source": [
    "### Data Splitting"
   ]
  },
  {
   "cell_type": "code",
   "execution_count": null,
   "id": "3c9e3b21-c52f-4b16-a513-94813ca83cdb",
   "metadata": {},
   "outputs": [],
   "source": [
    "data.head()"
   ]
  },
  {
   "cell_type": "code",
   "execution_count": null,
   "id": "672c3e42-01b6-49df-a326-64eb85ce6292",
   "metadata": {},
   "outputs": [],
   "source": [
    "X = data.drop(columns=['HDI_Category', 'Mortality_Rate'])  \n",
    "y = data['HDI_Category'] \n",
    "scaler = StandardScaler()\n",
    "X_scaled = scaler.fit_transform(X)\n",
    "X_train, X_test, y_train, y_test = train_test_split(X_scaled, y, test_size=0.2, random_state=42)"
   ]
  },
  {
   "cell_type": "markdown",
   "id": "e1119554-523b-4703-bd1d-0b9c8ba6d0c7",
   "metadata": {},
   "source": [
    "# Modeling"
   ]
  },
  {
   "cell_type": "code",
   "execution_count": null,
   "id": "bb7860cb-5647-4945-bc50-389f440ab5a8",
   "metadata": {},
   "outputs": [],
   "source": [
    "classifiers = {\n",
    "    'Random Forest Classifier': RandomForestClassifier(n_estimators=47, random_state=34),\n",
    "    'Logistic Regression': LogisticRegression(random_state=42),\n",
    "    }\n",
    "\n",
    "for name, clf in classifiers.items():\n",
    "    clf.fit(X_train, y_train)  \n",
    "    y_pred = clf.predict(X_test)   \n",
    "    accuracy = accuracy_score(y_test, y_pred)   \n",
    "    print(f'{name} Accuracy: {accuracy * 100:.2f}%')"
   ]
  },
  {
   "cell_type": "code",
   "execution_count": null,
   "id": "15f581e7-ae18-47b6-aba7-b97cf6e9f359",
   "metadata": {},
   "outputs": [],
   "source": [
    "# END"
   ]
  }
 ],
 "metadata": {
  "kernelspec": {
   "display_name": "Python 3 (ipykernel)",
   "language": "python",
   "name": "python3"
  },
  "language_info": {
   "codemirror_mode": {
    "name": "ipython",
    "version": 3
   },
   "file_extension": ".py",
   "mimetype": "text/x-python",
   "name": "python",
   "nbconvert_exporter": "python",
   "pygments_lexer": "ipython3",
   "version": "3.12.5"
  }
 },
 "nbformat": 4,
 "nbformat_minor": 5
}
