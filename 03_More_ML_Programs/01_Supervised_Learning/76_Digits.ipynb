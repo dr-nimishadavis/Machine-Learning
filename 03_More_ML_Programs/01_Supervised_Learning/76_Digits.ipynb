{
 "cells": [
  {
   "cell_type": "code",
   "execution_count": 1,
   "id": "a38ec61c-b5bd-4c40-a28e-9278b387bc03",
   "metadata": {},
   "outputs": [],
   "source": [
    "# Import necessary libraries\n",
    "from sklearn.model_selection import StratifiedKFold, cross_val_score, train_test_split\n",
    "from sklearn.datasets import load_digits\n",
    "\n",
    "from sklearn.ensemble import RandomForestClassifier,AdaBoostClassifier, GradientBoostingClassifier\n",
    "from sklearn.linear_model import LogisticRegression\n",
    "from sklearn.svm import SVC\n",
    "from sklearn.neighbors import KNeighborsClassifier\n",
    "from sklearn.naive_bayes import GaussianNB\n",
    "from sklearn.tree import DecisionTreeClassifier\n",
    "from xgboost import XGBClassifier\n",
    "import numpy as np\n",
    "import warnings\n",
    "warnings.filterwarnings('ignore')"
   ]
  },
  {
   "cell_type": "code",
   "execution_count": 2,
   "id": "cfc97c8c-c2f8-4809-b34e-bb82edd1aa6a",
   "metadata": {},
   "outputs": [],
   "source": [
    "# Load the digits dataset\n",
    "digits = load_digits()"
   ]
  },
  {
   "cell_type": "code",
   "execution_count": 3,
   "id": "34d09948-219d-4a51-8552-4e40a51d20d0",
   "metadata": {},
   "outputs": [
    {
     "data": {
      "text/plain": [
       "<matplotlib.image.AxesImage at 0x217faf7fad0>"
      ]
     },
     "execution_count": 3,
     "metadata": {},
     "output_type": "execute_result"
    },
    {
     "data": {
      "image/png": "[encoded data removed]",
      "text/plain": [
       "<Figure size 640x480 with 1 Axes>"
      ]
     },
     "metadata": {},
     "output_type": "display_data"
    }
   ],
   "source": [
    "import matplotlib.pyplot as plt\n",
    "plt.imshow(digits.images[134])"
   ]
  },
  {
   "cell_type": "code",
   "execution_count": 4,
   "id": "dbc2ef77-97e7-472b-9a04-2733e655f10e",
   "metadata": {},
   "outputs": [],
   "source": [
    "X = digits.data  # Features\n",
    "y = digits.target  # Labels\n",
    "\n",
    "X_train, X_test, y_train, y_test = train_test_split(X, y, test_size=0.2, random_state=42)"
   ]
  },
  {
   "cell_type": "code",
   "execution_count": 5,
   "id": "8b996cb8-871e-4215-933e-d1e22598ace4",
   "metadata": {},
   "outputs": [],
   "source": [
    "# Create the model (Logistic Regression)\n",
    "model = LogisticRegression(max_iter=10000)\n",
    "\n",
    "# Create StratifiedKFold with 5 splits\n",
    "stratified_kfold = StratifiedKFold(n_splits=5)\n",
    "\n",
    "# Perform Stratified K-Fold Cross-Validation on training data\n",
    "cv_scores = cross_val_score(model, X_train, y_train, cv=stratified_kfold)\n"
   ]
  },
  {
   "cell_type": "code",
   "execution_count": 6,
   "id": "78608221-24be-4398-b762-8747703f9013",
   "metadata": {},
   "outputs": [
    {
     "name": "stdout",
     "output_type": "stream",
     "text": [
      "Model: Random Forest Classifier\n",
      "Stratified K-Fold cross-validation scores: [0.9756944444444444, 0.9722222222222222, 0.9547038327526133, 0.9790940766550522, 0.9547038327526133]\n",
      "Mean accuracy: 0.9673\n",
      "Standard deviation of accuracy: 0.0105\n",
      "--------------------------------------------------\n",
      "Model: Logistic Regression\n",
      "Stratified K-Fold cross-validation scores: [0.9583333333333334, 0.9618055555555556, 0.9512195121951219, 0.9651567944250871, 0.9337979094076655]\n",
      "Mean accuracy: 0.9541\n",
      "Standard deviation of accuracy: 0.0111\n",
      "--------------------------------------------------\n",
      "Model: SVM\n",
      "Stratified K-Fold cross-validation scores: [0.9756944444444444, 0.9722222222222222, 0.9651567944250871, 0.9825783972125436, 0.9581881533101045]\n",
      "Mean accuracy: 0.9708\n",
      "Standard deviation of accuracy: 0.0084\n",
      "--------------------------------------------------\n",
      "Model: KNN\n",
      "Stratified K-Fold cross-validation scores: [0.9965277777777778, 0.9791666666666666, 0.975609756097561, 0.9895470383275261, 0.9721254355400697]\n",
      "Mean accuracy: 0.9826\n",
      "Standard deviation of accuracy: 0.0091\n",
      "--------------------------------------------------\n",
      "Model: Naive Bayes\n",
      "Stratified K-Fold cross-validation scores: [0.8125, 0.7847222222222222, 0.8501742160278746, 0.8745644599303136, 0.8257839721254355]\n",
      "Mean accuracy: 0.8295\n",
      "Standard deviation of accuracy: 0.0309\n",
      "--------------------------------------------------\n",
      "Model: Decision Tree\n",
      "Stratified K-Fold cross-validation scores: [0.6909722222222222, 0.6423611111111112, 0.6480836236933798, 0.6306620209059234, 0.6341463414634146]\n",
      "Mean accuracy: 0.6492\n",
      "Standard deviation of accuracy: 0.0217\n",
      "--------------------------------------------------\n",
      "Model: AdaBoost\n",
      "Stratified K-Fold cross-validation scores: [0.7326388888888888, 0.6631944444444444, 0.6585365853658537, 0.7003484320557491, 0.6062717770034843]\n",
      "Mean accuracy: 0.6722\n",
      "Standard deviation of accuracy: 0.0426\n",
      "--------------------------------------------------\n",
      "Model: Gradient Boosting\n",
      "Stratified K-Fold cross-validation scores: [0.9756944444444444, 0.9618055555555556, 0.9477351916376306, 0.9686411149825784, 0.9442508710801394]\n",
      "Mean accuracy: 0.9596\n",
      "Standard deviation of accuracy: 0.0120\n",
      "--------------------------------------------------\n",
      "Model: XGBoost\n",
      "Stratified K-Fold cross-validation scores: [0.96875, 0.9548611111111112, 0.9512195121951219, 0.9512195121951219, 0.9442508710801394]\n",
      "Mean accuracy: 0.9541\n",
      "Standard deviation of accuracy: 0.0081\n",
      "--------------------------------------------------\n"
     ]
    }
   ],
   "source": [
    "# Create a list of models\n",
    "models = {\n",
    "    'Random Forest Classifier': RandomForestClassifier(n_estimators=47, random_state=34),\n",
    "    'Logistic Regression': LogisticRegression(random_state=42),\n",
    "    'SVM': SVC(kernel='linear'),\n",
    "    'KNN': KNeighborsClassifier(n_neighbors=5),\n",
    "    'Naive Bayes': GaussianNB(),\n",
    "    'Decision Tree': DecisionTreeClassifier(random_state=42, max_depth=5),\n",
    "    'AdaBoost': AdaBoostClassifier(n_estimators=50, random_state=42, learning_rate=0.3),\n",
    "    'Gradient Boosting': GradientBoostingClassifier(n_estimators=600, learning_rate=0.05, random_state=42),\n",
    "    'XGBoost': XGBClassifier(n_estimators=100, learning_rate=0.1, max_depth=3, random_state=42, use_label_encoder=False, eval_metric='mlogloss')\n",
    "}\n",
    "\n",
    "# Create StratifiedKFold with 5 splits\n",
    "stratified_kfold = StratifiedKFold(n_splits=5)\n",
    "\n",
    "# Loop through each model, apply Stratified K-Fold Cross-Validation manually, and output results\n",
    "for name, model in models.items():\n",
    "    print(f\"Model: {name}\")\n",
    "    \n",
    "    # Variables to store cross-validation results\n",
    "    accuracies = []\n",
    "    \n",
    "    # Use StratifiedKFold to split the data\n",
    "    for train_index, test_index in stratified_kfold.split(X_train, y_train):\n",
    "        X_train_fold, X_test_fold = X_train[train_index], X_train[test_index]\n",
    "        y_train_fold, y_test_fold = y_train[train_index], y_train[test_index]\n",
    "        \n",
    "        # Train the model\n",
    "        model.fit(X_train_fold, y_train_fold)\n",
    "        \n",
    "        # Evaluate the model\n",
    "        accuracy = model.score(X_test_fold, y_test_fold)\n",
    "        accuracies.append(accuracy)\n",
    "    \n",
    "    # Calculate the mean and standard deviation of the accuracies\n",
    "    mean_accuracy = np.mean(accuracies)\n",
    "    std_dev_accuracy = np.std(accuracies)\n",
    "    \n",
    "    print(f\"Stratified K-Fold cross-validation scores: {accuracies}\")\n",
    "    print(f\"Mean accuracy: {mean_accuracy:.4f}\")\n",
    "    print(f\"Standard deviation of accuracy: {std_dev_accuracy:.4f}\")\n",
    "    print(\"-\" * 50)"
   ]
  },
  {
   "cell_type": "code",
   "execution_count": 7,
   "id": "bf3510cd-9451-434f-a2dc-e64195814828",
   "metadata": {},
   "outputs": [],
   "source": [
    "#END"
   ]
  }
 ],
 "metadata": {
  "kernelspec": {
   "display_name": "Python 3 (ipykernel)",
   "language": "python",
   "name": "python3"
  },
  "language_info": {
   "codemirror_mode": {
    "name": "ipython",
    "version": 3
   },
   "file_extension": ".py",
   "mimetype": "text/x-python",
   "name": "python",
   "nbconvert_exporter": "python",
   "pygments_lexer": "ipython3",
   "version": "3.12.5"
  }
 },
 "nbformat": 4,
 "nbformat_minor": 5
}
