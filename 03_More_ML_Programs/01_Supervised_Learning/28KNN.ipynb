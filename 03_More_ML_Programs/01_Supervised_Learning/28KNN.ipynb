{
 "cells": [
  {
   "cell_type": "code",
   "execution_count": 1,
   "id": "b7605a4c-429f-40f2-97a0-637606c15ef2",
   "metadata": {},
   "outputs": [
    {
     "data": {
      "text/plain": [
       "[(7, 7), (7, 4), (3, 4), (1, 4)]"
      ]
     },
     "execution_count": 1,
     "metadata": {},
     "output_type": "execute_result"
    }
   ],
   "source": [
    "from sklearn.neighbors import KNeighborsClassifier\n",
    "x1=[7,7,3,1]\n",
    "x2=[7,4,4,4]\n",
    "target=['bad','bad','good','good']\n",
    "features=list(zip(x1,x2))\n",
    "features"
   ]
  },
  {
   "cell_type": "code",
   "execution_count": 13,
   "id": "8738f705-5f2c-4a8c-a468-12d14ecb56e4",
   "metadata": {},
   "outputs": [
    {
     "data": {
      "text/plain": [
       "array(['good'], dtype='<U4')"
      ]
     },
     "execution_count": 13,
     "metadata": {},
     "output_type": "execute_result"
    }
   ],
   "source": [
    "knn=KNeighborsClassifier(n_neighbors=3)\n",
    "knn.fit(features,target)\n",
    "new_data=[(3,7)]\n",
    "prediction=knn.predict(new_data)\n",
    "prediction"
   ]
  },
  {
   "cell_type": "code",
   "execution_count": 15,
   "id": "e1fd86e7-f308-48fe-a4d9-65417890178b",
   "metadata": {},
   "outputs": [],
   "source": [
    "#second question"
   ]
  },
  {
   "cell_type": "code",
   "execution_count": 17,
   "id": "2b1de27f-c02c-49b0-8348-76416ffd1cc3",
   "metadata": {},
   "outputs": [],
   "source": [
    "import numpy as np\n",
    "data=np.array([\n",
    "    [1,4],\n",
    "    [2,3],\n",
    "    [2,7],\n",
    "    [1,1],\n",
    "    [3,4],\n",
    "    [0,6]\n",
    "])\n",
    "labels=np.array(['Bad','Good','Good','Bad','Good','Bad'])"
   ]
  },
  {
   "cell_type": "code",
   "execution_count": 21,
   "id": "cce574ee-dd71-47e7-b01d-c88e702ecd4c",
   "metadata": {},
   "outputs": [
    {
     "data": {
      "text/plain": [
       "array(['Bad'], dtype='<U4')"
      ]
     },
     "execution_count": 21,
     "metadata": {},
     "output_type": "execute_result"
    }
   ],
   "source": [
    "knn=KNeighborsClassifier(n_neighbors=3)# k=3\n",
    "knn.fit(data,labels)\n",
    "new_data=[(1,9)]\n",
    "prediction=knn.predict(new_data)\n",
    "prediction"
   ]
  },
  {
   "cell_type": "code",
   "execution_count": 23,
   "id": "83ed1f98-afdb-4586-bd8b-2953a54cd3a9",
   "metadata": {},
   "outputs": [
    {
     "data": {
      "text/plain": [
       "array(['Good'], dtype='<U4')"
      ]
     },
     "execution_count": 23,
     "metadata": {},
     "output_type": "execute_result"
    }
   ],
   "source": [
    "knn=KNeighborsClassifier(n_neighbors=5)# k=5\n",
    "knn.fit(data,labels)\n",
    "new_data=[(1,9)]\n",
    "prediction=knn.predict(new_data)\n",
    "prediction"
   ]
  },
  {
   "cell_type": "code",
   "execution_count": null,
   "id": "cca8cad7-6317-4bfb-baf6-94b0b47cc198",
   "metadata": {},
   "outputs": [],
   "source": []
  }
 ],
 "metadata": {
  "kernelspec": {
   "display_name": "Python 3 (ipykernel)",
   "language": "python",
   "name": "python3"
  },
  "language_info": {
   "codemirror_mode": {
    "name": "ipython",
    "version": 3
   },
   "file_extension": ".py",
   "mimetype": "text/x-python",
   "name": "python",
   "nbconvert_exporter": "python",
   "pygments_lexer": "ipython3",
   "version": "3.12.4"
  }
 },
 "nbformat": 4,
 "nbformat_minor": 5
}
