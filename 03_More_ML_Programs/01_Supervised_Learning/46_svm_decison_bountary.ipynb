{
 "cells": [
  {
   "cell_type": "code",
   "execution_count": null,
   "id": "09502881-9062-4abb-807f-518fcd447991",
   "metadata": {},
   "outputs": [],
   "source": [
    "import numpy as np\n",
    "import pandas as pd\n",
    "import matplotlib.pyplot as plt\n",
    "import seaborn as sns\n",
    "import warnings\n",
    "warnings.filterwarnings('ignore')"
   ]
  },
  {
   "cell_type": "code",
   "execution_count": null,
   "id": "cb97e25a-a108-47b8-ba5a-be89a007a262",
   "metadata": {},
   "outputs": [],
   "source": [
    "from sklearn.datasets import load_breast_cancer\n",
    "from sklearn.inspection import DecisionBoundaryDisplay\n",
    "from sklearn.svm import SVC"
   ]
  },
  {
   "cell_type": "code",
   "execution_count": null,
   "id": "e28ef6fa-201d-41e9-8872-b2f3f08f8ef0",
   "metadata": {},
   "outputs": [],
   "source": [
    "cancer=load_breast_cancer()\n",
    "cancer"
   ]
  },
  {
   "cell_type": "code",
   "execution_count": null,
   "id": "fcc34636-2dbc-496b-8d53-743287cc7815",
   "metadata": {},
   "outputs": [],
   "source": [
    "x=cancer.data[:,:2]\n",
    "y=cancer.target"
   ]
  },
  {
   "cell_type": "code",
   "execution_count": null,
   "id": "690aef5f-7db1-49f7-b81b-77049a2e9cca",
   "metadata": {},
   "outputs": [],
   "source": [
    "svm=SVC(kernel='linear',gamma=0.5,C=1.0)\n",
    "svm.fit(x,y)"
   ]
  },
  {
   "cell_type": "code",
   "execution_count": null,
   "id": "dc789eb6-8871-4dff-92a2-b19294cc0cf0",
   "metadata": {},
   "outputs": [],
   "source": [
    "DecisionBoundaryDisplay.from_estimator(svm,x,response_method='predict',cmap=plt.cm.Spectral,alpha=0.8,x_label=cancer.feature_names[0],y_label=cancer.feature_names[1])\n",
    "plt.scatter(x[:,0],x[:,1],c=y,s=20,edgecolor='k')\n",
    "plt.show()"
   ]
  },
  {
   "cell_type": "code",
   "execution_count": null,
   "id": "c6252ede-cfc2-4668-bc7c-630d1b52bb72",
   "metadata": {},
   "outputs": [],
   "source": [
    "svm=SVC(kernel='poly',degree=5,gamma=0.5,C=1.0)\n",
    "svm.fit(x,y)"
   ]
  },
  {
   "cell_type": "code",
   "execution_count": null,
   "id": "f25e7ca4-880c-4242-a65b-0f63d560ec04",
   "metadata": {},
   "outputs": [],
   "source": [
    "DecisionBoundaryDisplay.from_estimator(svm,x,response_method='predict',cmap=plt.cm.Spectral,alpha=0.8,x_label=cancer.feature_names[0],y_label=cancer.feature_names[1])\n",
    "plt.scatter(x[:,0],x[:,1],c=y,s=20,edgecolor='k')\n",
    "plt.show()"
   ]
  },
  {
   "cell_type": "code",
   "execution_count": null,
   "id": "cc876938-2ce7-48f2-89b9-785788deaec4",
   "metadata": {},
   "outputs": [],
   "source": [
    "svm=SVC(kernel='sigmoid',gamma=0.5,C=1.0)\n",
    "svm.fit(x,y)"
   ]
  },
  {
   "cell_type": "code",
   "execution_count": null,
   "id": "91e8dba2-e385-4c20-93c5-fc0729d99099",
   "metadata": {},
   "outputs": [],
   "source": [
    "DecisionBoundaryDisplay.from_estimator(svm,x,response_method='predict',cmap=plt.cm.Spectral,alpha=0.8,x_label=cancer.feature_names[0],y_label=cancer.feature_names[1])\n",
    "plt.scatter(x[:,0],x[:,1],c=y,s=20,edgecolor='k')\n",
    "plt.show()"
   ]
  }
 ],
 "metadata": {
  "kernelspec": {
   "display_name": "Python 3 (ipykernel)",
   "language": "python",
   "name": "python3"
  },
  "language_info": {
   "codemirror_mode": {
    "name": "ipython",
    "version": 3
   },
   "file_extension": ".py",
   "mimetype": "text/x-python",
   "name": "python",
   "nbconvert_exporter": "python",
   "pygments_lexer": "ipython3",
   "version": "3.12.4"
  }
 },
 "nbformat": 4,
 "nbformat_minor": 5
}
