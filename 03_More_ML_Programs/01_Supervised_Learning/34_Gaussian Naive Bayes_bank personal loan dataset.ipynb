{
 "cells": [
  {
   "cell_type": "markdown",
   "id": "e750f155-dcd2-41f2-bb59-3b91f4bb3cee",
   "metadata": {},
   "source": [
    "### Gaussian Naive Bayes"
   ]
  },
  {
   "cell_type": "code",
   "execution_count": 3,
   "id": "0148b578-0064-4844-bdf1-023772f6752c",
   "metadata": {},
   "outputs": [],
   "source": [
    "import numpy as np\n",
    "import pandas as pd\n",
    "import seaborn as sns\n",
    "import matplotlib.pyplot as plt"
   ]
  },
  {
   "cell_type": "markdown",
   "id": "e8de7e8b-cf8a-4d85-bbef-91cdfbb18f45",
   "metadata": {},
   "source": [
    "### EDA"
   ]
  },
  {
   "cell_type": "code",
   "execution_count": 5,
   "id": "8c50193e-6d74-4fe9-91a2-fd4ceafbf65e",
   "metadata": {},
   "outputs": [
    {
     "data": {
      "text/html": [
       "<div>\n",
       "<style scoped>\n",
       "    .dataframe tbody tr th:only-of-type {\n",
       "        vertical-align: middle;\n",
       "    }\n",
       "\n",
       "    .dataframe tbody tr th {\n",
       "        vertical-align: top;\n",
       "    }\n",
       "\n",
       "    .dataframe thead th {\n",
       "        text-align: right;\n",
       "    }\n",
       "</style>\n",
       "<table border=\"1\" class=\"dataframe\">\n",
       "  <thead>\n",
       "    <tr style=\"text-align: right;\">\n",
       "      <th></th>\n",
       "      <th>ID_Customer</th>\n",
       "      <th>Age</th>\n",
       "      <th>Experience</th>\n",
       "      <th>Income</th>\n",
       "      <th>ZIP Code</th>\n",
       "      <th>Family</th>\n",
       "      <th>CCAvg</th>\n",
       "      <th>Education</th>\n",
       "      <th>Mortgage</th>\n",
       "      <th>Personal Loan</th>\n",
       "      <th>Securities Account</th>\n",
       "      <th>CD Account</th>\n",
       "      <th>Online</th>\n",
       "      <th>CreditCard</th>\n",
       "    </tr>\n",
       "  </thead>\n",
       "  <tbody>\n",
       "    <tr>\n",
       "      <th>0</th>\n",
       "      <td>1</td>\n",
       "      <td>25</td>\n",
       "      <td>1</td>\n",
       "      <td>49</td>\n",
       "      <td>91107</td>\n",
       "      <td>4</td>\n",
       "      <td>1.6</td>\n",
       "      <td>1</td>\n",
       "      <td>0</td>\n",
       "      <td>0</td>\n",
       "      <td>1</td>\n",
       "      <td>0</td>\n",
       "      <td>0</td>\n",
       "      <td>0</td>\n",
       "    </tr>\n",
       "    <tr>\n",
       "      <th>1</th>\n",
       "      <td>2</td>\n",
       "      <td>45</td>\n",
       "      <td>19</td>\n",
       "      <td>34</td>\n",
       "      <td>90089</td>\n",
       "      <td>3</td>\n",
       "      <td>1.5</td>\n",
       "      <td>1</td>\n",
       "      <td>0</td>\n",
       "      <td>0</td>\n",
       "      <td>1</td>\n",
       "      <td>0</td>\n",
       "      <td>0</td>\n",
       "      <td>0</td>\n",
       "    </tr>\n",
       "    <tr>\n",
       "      <th>2</th>\n",
       "      <td>3</td>\n",
       "      <td>39</td>\n",
       "      <td>15</td>\n",
       "      <td>11</td>\n",
       "      <td>94720</td>\n",
       "      <td>1</td>\n",
       "      <td>1.0</td>\n",
       "      <td>1</td>\n",
       "      <td>0</td>\n",
       "      <td>0</td>\n",
       "      <td>0</td>\n",
       "      <td>0</td>\n",
       "      <td>0</td>\n",
       "      <td>0</td>\n",
       "    </tr>\n",
       "    <tr>\n",
       "      <th>3</th>\n",
       "      <td>4</td>\n",
       "      <td>35</td>\n",
       "      <td>9</td>\n",
       "      <td>100</td>\n",
       "      <td>94112</td>\n",
       "      <td>1</td>\n",
       "      <td>2.7</td>\n",
       "      <td>2</td>\n",
       "      <td>0</td>\n",
       "      <td>0</td>\n",
       "      <td>0</td>\n",
       "      <td>0</td>\n",
       "      <td>0</td>\n",
       "      <td>0</td>\n",
       "    </tr>\n",
       "    <tr>\n",
       "      <th>4</th>\n",
       "      <td>5</td>\n",
       "      <td>35</td>\n",
       "      <td>8</td>\n",
       "      <td>45</td>\n",
       "      <td>91330</td>\n",
       "      <td>4</td>\n",
       "      <td>1.0</td>\n",
       "      <td>2</td>\n",
       "      <td>0</td>\n",
       "      <td>0</td>\n",
       "      <td>0</td>\n",
       "      <td>0</td>\n",
       "      <td>0</td>\n",
       "      <td>1</td>\n",
       "    </tr>\n",
       "  </tbody>\n",
       "</table>\n",
       "</div>"
      ],
      "text/plain": [
       "   ID_Customer  Age  Experience  Income  ZIP Code  Family  CCAvg  Education  \\\n",
       "0            1   25           1      49     91107       4    1.6          1   \n",
       "1            2   45          19      34     90089       3    1.5          1   \n",
       "2            3   39          15      11     94720       1    1.0          1   \n",
       "3            4   35           9     100     94112       1    2.7          2   \n",
       "4            5   35           8      45     91330       4    1.0          2   \n",
       "\n",
       "   Mortgage  Personal Loan  Securities Account  CD Account  Online  CreditCard  \n",
       "0         0              0                   1           0       0           0  \n",
       "1         0              0                   1           0       0           0  \n",
       "2         0              0                   0           0       0           0  \n",
       "3         0              0                   0           0       0           0  \n",
       "4         0              0                   0           0       0           1  "
      ]
     },
     "execution_count": 5,
     "metadata": {},
     "output_type": "execute_result"
    }
   ],
   "source": [
    "data=pd.read_csv('data/Bank_Personal_Loan_Modelling.csv')\n",
    "data.head()"
   ]
  },
  {
   "cell_type": "code",
   "execution_count": 7,
   "id": "53729434-b227-4993-97d8-91f32b82c8fb",
   "metadata": {},
   "outputs": [
    {
     "data": {
      "text/plain": [
       "Index(['ID_Customer', 'Age', 'Experience', 'Income', 'ZIP Code', 'Family',\n",
       "       'CCAvg', 'Education', 'Mortgage', 'Personal Loan', 'Securities Account',\n",
       "       'CD Account', 'Online', 'CreditCard'],\n",
       "      dtype='object')"
      ]
     },
     "execution_count": 7,
     "metadata": {},
     "output_type": "execute_result"
    }
   ],
   "source": [
    "data.columns"
   ]
  },
  {
   "cell_type": "code",
   "execution_count": 9,
   "id": "a70c20f9-cdc8-419b-8bd8-57a143381b68",
   "metadata": {},
   "outputs": [
    {
     "data": {
      "text/plain": [
       "0"
      ]
     },
     "execution_count": 9,
     "metadata": {},
     "output_type": "execute_result"
    }
   ],
   "source": [
    "data.duplicated().sum()"
   ]
  },
  {
   "cell_type": "code",
   "execution_count": 13,
   "id": "b3d09eb4-8ffe-404c-8c1f-5161da793718",
   "metadata": {},
   "outputs": [
    {
     "data": {
      "text/plain": [
       "ID_Customer           0\n",
       "Age                   0\n",
       "Experience            0\n",
       "Income                0\n",
       "ZIP Code              0\n",
       "Family                0\n",
       "CCAvg                 0\n",
       "Education             0\n",
       "Mortgage              0\n",
       "Personal Loan         0\n",
       "Securities Account    0\n",
       "CD Account            0\n",
       "Online                0\n",
       "CreditCard            0\n",
       "dtype: int64"
      ]
     },
     "execution_count": 13,
     "metadata": {},
     "output_type": "execute_result"
    }
   ],
   "source": [
    "data.isna().sum()"
   ]
  },
  {
   "cell_type": "code",
   "execution_count": 15,
   "id": "c57aa1e5-84aa-4dea-8dd1-a33436c28d9f",
   "metadata": {},
   "outputs": [],
   "source": [
    "data.drop(['ID_Customer', 'ZIP Code'], axis=1, inplace=True)"
   ]
  },
  {
   "cell_type": "markdown",
   "id": "3585e283-771a-4587-87f7-10a446c216ca",
   "metadata": {},
   "source": [
    "### Splitting X & Y"
   ]
  },
  {
   "cell_type": "code",
   "execution_count": 19,
   "id": "f6a36caa-a1b6-4e03-b12b-06599f30bd56",
   "metadata": {},
   "outputs": [],
   "source": [
    "X = data.drop('Personal Loan', axis=1)\n",
    "y = data['Personal Loan']"
   ]
  },
  {
   "cell_type": "markdown",
   "id": "e8fdc397-65df-45c5-9bf3-3df0d24db5f3",
   "metadata": {},
   "source": [
    "### Scaling"
   ]
  },
  {
   "cell_type": "code",
   "execution_count": 21,
   "id": "1d7bf45a-699f-4dd0-87d7-1ccf03865d0a",
   "metadata": {},
   "outputs": [
    {
     "data": {
      "text/plain": [
       "array([[-1.77441684, -1.66607847, -0.53822878, ..., -0.25354028,\n",
       "        -1.21661774, -0.64531434],\n",
       "       [-0.02952359, -0.09633022, -0.8641094 , ..., -0.25354028,\n",
       "        -1.21661774, -0.64531434],\n",
       "       [-0.55299157, -0.44516316, -1.36379301, ..., -0.25354028,\n",
       "        -1.21661774, -0.64531434],\n",
       "       ...,\n",
       "       [ 1.54088033,  1.64783451, -1.08136314, ..., -0.25354028,\n",
       "        -1.21661774, -0.64531434],\n",
       "       [ 1.71536965,  1.73504275, -0.53822878, ..., -0.25354028,\n",
       "         0.82195086, -0.64531434],\n",
       "       [-1.51268285, -1.40445376,  0.20043396, ..., -0.25354028,\n",
       "         0.82195086,  1.54963239]])"
      ]
     },
     "execution_count": 21,
     "metadata": {},
     "output_type": "execute_result"
    }
   ],
   "source": [
    "from sklearn.preprocessing import StandardScaler,MinMaxScaler\n",
    "sd=StandardScaler()\n",
    "X_fit=sd.fit_transform(X)\n",
    "X_fit"
   ]
  },
  {
   "cell_type": "markdown",
   "id": "f791bea8-97c2-4e0d-9c50-743ea22b081b",
   "metadata": {},
   "source": [
    "### Splitting into test & train data"
   ]
  },
  {
   "cell_type": "code",
   "execution_count": 23,
   "id": "811cd45f-3bfd-4ef5-8c1e-514c5cdd60b3",
   "metadata": {},
   "outputs": [],
   "source": [
    "from sklearn.model_selection import train_test_split\n",
    "X_train, X_test, y_train, y_test = train_test_split(X_fit, y, test_size=0.3, random_state=42)"
   ]
  },
  {
   "cell_type": "markdown",
   "id": "b9c963d4-bdf9-43f6-9249-f1f2b1d0e5e2",
   "metadata": {},
   "source": [
    "### Gaussian Naive Bayes"
   ]
  },
  {
   "cell_type": "code",
   "execution_count": 27,
   "id": "a8c1139d-348d-4e01-b772-381acd838b1c",
   "metadata": {},
   "outputs": [
    {
     "name": "stdout",
     "output_type": "stream",
     "text": [
      "accuracy:89.2\n",
      "Classification Report:\n",
      "              precision    recall  f1-score   support\n",
      "\n",
      "           0       0.95      0.93      0.94      1343\n",
      "           1       0.49      0.60      0.54       157\n",
      "\n",
      "    accuracy                           0.89      1500\n",
      "   macro avg       0.72      0.76      0.74      1500\n",
      "weighted avg       0.90      0.89      0.90      1500\n",
      "\n",
      "Confusion Matrix:\n",
      "[[1244   99]\n",
      " [  63   94]]\n"
     ]
    }
   ],
   "source": [
    "from sklearn.naive_bayes import GaussianNB\n",
    "gb=GaussianNB()\n",
    "gb.fit(X_train,y_train)\n",
    "pred=gb.predict(X_test)\n",
    "\n",
    "from sklearn.metrics import accuracy_score, confusion_matrix, classification_report\n",
    "\n",
    "# Accuracy\n",
    "from sklearn.metrics import accuracy_score\n",
    "print(f\"accuracy:{accuracy_score(y_test,pred)*100}\")\n",
    "\n",
    "# Classification Report\n",
    "cr = classification_report(y_test, pred)\n",
    "print(f\"Classification Report:\\n{cr}\")\n",
    "\n",
    "# Confusion Matrix\n",
    "cm = confusion_matrix(y_test, pred)\n",
    "print(f\"Confusion Matrix:\\n{cm}\")"
   ]
  },
  {
   "cell_type": "markdown",
   "id": "2e783112-5501-477a-b9d8-450d3669953f",
   "metadata": {},
   "source": [
    "### KNN"
   ]
  },
  {
   "cell_type": "code",
   "execution_count": 31,
   "id": "606a7e1b-93c9-47d8-b23d-ebc2fc8a87c3",
   "metadata": {},
   "outputs": [
    {
     "name": "stdout",
     "output_type": "stream",
     "text": [
      "accuracy 95.86666666666666\n",
      "Classification Report:\n",
      "              precision    recall  f1-score   support\n",
      "\n",
      "           0       0.96      0.99      0.98      1343\n",
      "           1       0.93      0.66      0.77       157\n",
      "\n",
      "    accuracy                           0.96      1500\n",
      "   macro avg       0.94      0.83      0.87      1500\n",
      "weighted avg       0.96      0.96      0.96      1500\n",
      "\n",
      "Confusion Matrix:\n",
      "[[1335    8]\n",
      " [  54  103]]\n"
     ]
    }
   ],
   "source": [
    "from sklearn.neighbors import KNeighborsClassifier\n",
    "from sklearn.metrics import accuracy_score, confusion_matrix, classification_report\n",
    "knn=KNeighborsClassifier(n_neighbors=3)\n",
    "knn.fit(X_train,y_train)\n",
    "y_pred = knn.predict(X_test)\n",
    "\n",
    "# Accuracy\n",
    "from sklearn.metrics import accuracy_score\n",
    "print(f\"accuracy {accuracy_score(y_test,y_pred)*100}\")\n",
    "\n",
    "# Classification Report\n",
    "cr = classification_report(y_test, y_pred)\n",
    "print(f\"Classification Report:\\n{cr}\")\n",
    "\n",
    "# Confusion Matrix\n",
    "cm = confusion_matrix(y_test, y_pred)\n",
    "print(f\"Confusion Matrix:\\n{cm}\")"
   ]
  },
  {
   "cell_type": "markdown",
   "id": "a7fe77c3-84bf-4103-8e8e-1c7486545d02",
   "metadata": {},
   "source": [
    "### Logistic regression"
   ]
  },
  {
   "cell_type": "code",
   "execution_count": 35,
   "id": "bd540e40-9e15-41bc-901d-190c29d04387",
   "metadata": {},
   "outputs": [
    {
     "name": "stdout",
     "output_type": "stream",
     "text": [
      "accuracy:95.19999999999999\n",
      "Classification Report:\n",
      "              precision    recall  f1-score   support\n",
      "\n",
      "           0       0.96      0.99      0.97      1343\n",
      "           1       0.85      0.66      0.74       157\n",
      "\n",
      "    accuracy                           0.95      1500\n",
      "   macro avg       0.90      0.82      0.86      1500\n",
      "weighted avg       0.95      0.95      0.95      1500\n",
      "\n",
      "Confusion Matrix:\n",
      "[[1324   19]\n",
      " [  53  104]]\n"
     ]
    }
   ],
   "source": [
    "from sklearn.linear_model import LogisticRegression\n",
    "logreg = LogisticRegression()\n",
    "logreg.fit(X_train, y_train)\n",
    "y_pred_logreg = logreg.predict(X_test)\n",
    "\n",
    "# Accuracy\n",
    "from sklearn.metrics import accuracy_score\n",
    "print(f\"accuracy:{accuracy_score(y_test,y_pred_logreg)*100}\")\n",
    "\n",
    "\n",
    "# Classification Report\n",
    "cr = classification_report(y_test, y_pred_logreg)\n",
    "print(f\"Classification Report:\\n{cr}\")\n",
    "\n",
    "# Confusion Matrix\n",
    "cm = confusion_matrix(y_test, y_pred_logreg)\n",
    "print(f\"Confusion Matrix:\\n{cm}\")"
   ]
  },
  {
   "cell_type": "code",
   "execution_count": 37,
   "id": "0c5081c7-9efd-4fe3-87db-f61abfe6b1d0",
   "metadata": {},
   "outputs": [
    {
     "name": "stdout",
     "output_type": "stream",
     "text": [
      "Gaussian Naive Bayes Accuracy:89.2\n",
      "KNN accuracy 95.86666666666666\n",
      "Logistic Regression accuracy:95.19999999999999\n"
     ]
    }
   ],
   "source": [
    "print(f\"Gaussian Naive Bayes Accuracy:{accuracy_score(y_test,pred)*100}\")\n",
    "print(f\"KNN accuracy {accuracy_score(y_test,y_pred)*100}\")\n",
    "print(f\"Logistic Regression accuracy:{accuracy_score(y_test,y_pred_logreg)*100}\")\n"
   ]
  },
  {
   "cell_type": "raw",
   "id": "c9a7169c-782d-40c9-84d5-2f2d90a3559b",
   "metadata": {},
   "source": [
    "Key Takeaways:\n",
    "==================\n",
    "KNN is the best-performing model on this dataset in terms of accuracy, but it may not scale well for large datasets or unseen test data.\n",
    "Logistic Regression offers comparable performance to KNN and is preferable for scalability and interpretability.\n",
    "Gaussian Naive Bayes is slightly less accurate but is a fast and simple baseline model."
   ]
  },
  {
   "cell_type": "raw",
   "id": "9269279b-ed36-4686-a965-9dffec30b08c",
   "metadata": {},
   "source": [
    "Recommendations:\n",
    "====================\n",
    "Use KNN if the dataset size is small and computation time is not a concern.\n",
    "Use Logistic Regression for deployment due to its efficiency and robustness.\n",
    "Use Gaussian Naive Bayes for quick results and baseline comparisons."
   ]
  },
  {
   "cell_type": "code",
   "execution_count": 64,
   "id": "f2c2c7dc-32d8-4452-a1ff-f420f6f37856",
   "metadata": {},
   "outputs": [],
   "source": [
    "#END"
   ]
  }
 ],
 "metadata": {
  "kernelspec": {
   "display_name": "Python 3 (ipykernel)",
   "language": "python",
   "name": "python3"
  },
  "language_info": {
   "codemirror_mode": {
    "name": "ipython",
    "version": 3
   },
   "file_extension": ".py",
   "mimetype": "text/x-python",
   "name": "python",
   "nbconvert_exporter": "python",
   "pygments_lexer": "ipython3",
   "version": "3.12.4"
  }
 },
 "nbformat": 4,
 "nbformat_minor": 5
}
