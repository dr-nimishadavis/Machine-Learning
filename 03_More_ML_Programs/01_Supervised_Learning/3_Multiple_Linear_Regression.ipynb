{
 "cells": [
  {
   "cell_type": "markdown",
   "id": "070eabc3-0b95-4671-8e06-4a3369bf0d1c",
   "metadata": {},
   "source": [
    "# Multiple Linear Regression"
   ]
  },
  {
   "cell_type": "markdown",
   "id": "75c5d311-cdfe-40e6-aafb-f28bd0f03c10",
   "metadata": {},
   "source": [
    "Multiple Linear Regression in ML is a model used to predict a continuous output variable based on the linear relationship between the output and multiple input variables. It assumes that the relationship between the dependent variable and each independent variable is linear."
   ]
  },
  {
   "cell_type": "markdown",
   "id": "0c82e821-d5d1-49e0-9ac0-9f8f07431205",
   "metadata": {},
   "source": [
    "## Steps in MLR"
   ]
  },
  {
   "cell_type": "raw",
   "id": "1feaaaa0-fff1-443d-b01c-1dd1a7153db2",
   "metadata": {},
   "source": [
    "1.Import all Libraries\n",
    "2.Load Dataset\n",
    "3.Data Preprocessing\n",
    "4.Correlation Analysis\n",
    "5.Data Visualization\n",
    "6.Spliting the Data into Multiple Inputs(X) & One Target(Y) variables\n",
    "7.Spliting the data into test data & train data\n",
    "8.Linear Regression Modeling\n",
    "9.Predictions\n",
    "10.Model coefficients & Intercept\n",
    "11.Visualization of actual & predicted values\n",
    "12.Performance Metrics for Regression Models: MAE, MSE, and RMSE\n",
    "13.Creating DataFrame to view Results\n",
    "14.r2 value calculations\n",
    "15.Conclusion"
   ]
  },
  {
   "cell_type": "markdown",
   "id": "eefc1b06-90c4-401e-a969-1e414ac31cef",
   "metadata": {},
   "source": [
    "### Import all libraries"
   ]
  },
  {
   "cell_type": "code",
   "execution_count": 350,
   "id": "6f5581ab-2e66-42fd-9766-f5b45861c0d3",
   "metadata": {},
   "outputs": [],
   "source": [
    "import pandas as pd\n",
    "import numpy as np\n",
    "import matplotlib.pyplot as plt\n",
    "import seaborn as sns"
   ]
  },
  {
   "cell_type": "code",
   "execution_count": 351,
   "id": "3f3f39df-6af7-4fb0-9777-04bd40295169",
   "metadata": {},
   "outputs": [],
   "source": [
    "import warnings\n",
    "warnings.filterwarnings('ignore')  # This will suppress all warnings"
   ]
  },
  {
   "cell_type": "markdown",
   "id": "1758d555-41de-4e9d-a399-edc80f24bfe2",
   "metadata": {},
   "source": [
    "### Load the data"
   ]
  },
  {
   "cell_type": "code",
   "execution_count": 353,
   "id": "59267296-c11c-4e87-af59-1435bfd13c29",
   "metadata": {},
   "outputs": [
    {
     "data": {
      "text/html": [
       "<div>\n",
       "<style scoped>\n",
       "    .dataframe tbody tr th:only-of-type {\n",
       "        vertical-align: middle;\n",
       "    }\n",
       "\n",
       "    .dataframe tbody tr th {\n",
       "        vertical-align: top;\n",
       "    }\n",
       "\n",
       "    .dataframe thead th {\n",
       "        text-align: right;\n",
       "    }\n",
       "</style>\n",
       "<table border=\"1\" class=\"dataframe\">\n",
       "  <thead>\n",
       "    <tr style=\"text-align: right;\">\n",
       "      <th></th>\n",
       "      <th>TV</th>\n",
       "      <th>Radio</th>\n",
       "      <th>Newspaper</th>\n",
       "      <th>Sales</th>\n",
       "    </tr>\n",
       "  </thead>\n",
       "  <tbody>\n",
       "    <tr>\n",
       "      <th>0</th>\n",
       "      <td>230.1</td>\n",
       "      <td>37.8</td>\n",
       "      <td>69.2</td>\n",
       "      <td>22.1</td>\n",
       "    </tr>\n",
       "    <tr>\n",
       "      <th>1</th>\n",
       "      <td>44.5</td>\n",
       "      <td>39.3</td>\n",
       "      <td>45.1</td>\n",
       "      <td>10.4</td>\n",
       "    </tr>\n",
       "    <tr>\n",
       "      <th>2</th>\n",
       "      <td>17.2</td>\n",
       "      <td>45.9</td>\n",
       "      <td>69.3</td>\n",
       "      <td>12.0</td>\n",
       "    </tr>\n",
       "    <tr>\n",
       "      <th>3</th>\n",
       "      <td>151.5</td>\n",
       "      <td>41.3</td>\n",
       "      <td>58.5</td>\n",
       "      <td>16.5</td>\n",
       "    </tr>\n",
       "    <tr>\n",
       "      <th>4</th>\n",
       "      <td>180.8</td>\n",
       "      <td>10.8</td>\n",
       "      <td>58.4</td>\n",
       "      <td>17.9</td>\n",
       "    </tr>\n",
       "  </tbody>\n",
       "</table>\n",
       "</div>"
      ],
      "text/plain": [
       "      TV  Radio  Newspaper  Sales\n",
       "0  230.1   37.8       69.2   22.1\n",
       "1   44.5   39.3       45.1   10.4\n",
       "2   17.2   45.9       69.3   12.0\n",
       "3  151.5   41.3       58.5   16.5\n",
       "4  180.8   10.8       58.4   17.9"
      ]
     },
     "execution_count": 353,
     "metadata": {},
     "output_type": "execute_result"
    }
   ],
   "source": [
    "data=pd.read_csv('data/advertising.csv')\n",
    "data.head()"
   ]
  },
  {
   "cell_type": "markdown",
   "id": "d66711c0-ab87-4298-9e85-9d3f654a5c8e",
   "metadata": {},
   "source": [
    "### Data Preprocessing"
   ]
  },
  {
   "cell_type": "code",
   "execution_count": 355,
   "id": "ed0760e5-f3e8-4ef0-b7f2-c84c60d865ba",
   "metadata": {},
   "outputs": [
    {
     "data": {
      "text/plain": [
       "<bound method NDFrame.describe of         TV  Radio  Newspaper  Sales\n",
       "0    230.1   37.8       69.2   22.1\n",
       "1     44.5   39.3       45.1   10.4\n",
       "2     17.2   45.9       69.3   12.0\n",
       "3    151.5   41.3       58.5   16.5\n",
       "4    180.8   10.8       58.4   17.9\n",
       "..     ...    ...        ...    ...\n",
       "195   38.2    3.7       13.8    7.6\n",
       "196   94.2    4.9        8.1   14.0\n",
       "197  177.0    9.3        6.4   14.8\n",
       "198  283.6   42.0       66.2   25.5\n",
       "199  232.1    8.6        8.7   18.4\n",
       "\n",
       "[200 rows x 4 columns]>"
      ]
     },
     "execution_count": 355,
     "metadata": {},
     "output_type": "execute_result"
    }
   ],
   "source": [
    "data.describe"
   ]
  },
  {
   "cell_type": "code",
   "execution_count": 356,
   "id": "b5dbcef5-68c1-43ed-bd9c-8971e3a7c87c",
   "metadata": {},
   "outputs": [
    {
     "data": {
      "text/plain": [
       "Index(['TV', 'Radio', 'Newspaper', 'Sales'], dtype='object')"
      ]
     },
     "execution_count": 356,
     "metadata": {},
     "output_type": "execute_result"
    }
   ],
   "source": [
    "data.columns"
   ]
  },
  {
   "cell_type": "code",
   "execution_count": 357,
   "id": "e904fe54-8fd8-4d15-9715-062503d8f545",
   "metadata": {},
   "outputs": [
    {
     "data": {
      "text/plain": [
       "(200, 4)"
      ]
     },
     "execution_count": 357,
     "metadata": {},
     "output_type": "execute_result"
    }
   ],
   "source": [
    "data.shape"
   ]
  },
  {
   "cell_type": "code",
   "execution_count": 358,
   "id": "a0022095-4f58-41f3-9094-fc276a09bc5b",
   "metadata": {},
   "outputs": [
    {
     "data": {
      "text/plain": [
       "800"
      ]
     },
     "execution_count": 358,
     "metadata": {},
     "output_type": "execute_result"
    }
   ],
   "source": [
    "data.size"
   ]
  },
  {
   "cell_type": "code",
   "execution_count": 359,
   "id": "0be3150c-b151-4e8c-8b0b-65b6a83959a3",
   "metadata": {},
   "outputs": [
    {
     "data": {
      "text/plain": [
       "TV           float64\n",
       "Radio        float64\n",
       "Newspaper    float64\n",
       "Sales        float64\n",
       "dtype: object"
      ]
     },
     "execution_count": 359,
     "metadata": {},
     "output_type": "execute_result"
    }
   ],
   "source": [
    "data.dtypes"
   ]
  },
  {
   "cell_type": "code",
   "execution_count": 360,
   "id": "e9d0f98c-b62b-4e56-8025-a3a97534ed45",
   "metadata": {},
   "outputs": [
    {
     "name": "stdout",
     "output_type": "stream",
     "text": [
      "<class 'pandas.core.frame.DataFrame'>\n",
      "RangeIndex: 200 entries, 0 to 199\n",
      "Data columns (total 4 columns):\n",
      " #   Column     Non-Null Count  Dtype  \n",
      "---  ------     --------------  -----  \n",
      " 0   TV         200 non-null    float64\n",
      " 1   Radio      200 non-null    float64\n",
      " 2   Newspaper  200 non-null    float64\n",
      " 3   Sales      200 non-null    float64\n",
      "dtypes: float64(4)\n",
      "memory usage: 6.4 KB\n"
     ]
    }
   ],
   "source": [
    "data.info()"
   ]
  },
  {
   "cell_type": "code",
   "execution_count": 361,
   "id": "6d294c48-95ad-44bd-b19e-15196df50f50",
   "metadata": {},
   "outputs": [
    {
     "data": {
      "text/plain": [
       "TV           0\n",
       "Radio        0\n",
       "Newspaper    0\n",
       "Sales        0\n",
       "dtype: int64"
      ]
     },
     "execution_count": 361,
     "metadata": {},
     "output_type": "execute_result"
    }
   ],
   "source": [
    "data.isna().sum()"
   ]
  },
  {
   "cell_type": "code",
   "execution_count": 362,
   "id": "274ae1cf-c444-43d0-aa8c-f3e59871ab8e",
   "metadata": {},
   "outputs": [
    {
     "data": {
      "text/plain": [
       "0"
      ]
     },
     "execution_count": 362,
     "metadata": {},
     "output_type": "execute_result"
    }
   ],
   "source": [
    "data.duplicated().sum()"
   ]
  },
  {
   "cell_type": "markdown",
   "id": "500b56dd-41d5-4ceb-88e4-f739ebcd908a",
   "metadata": {},
   "source": [
    "### Correlation Analysis"
   ]
  },
  {
   "cell_type": "code",
   "execution_count": 364,
   "id": "777adbc6-8e1e-4927-918f-da2432dc3b26",
   "metadata": {},
   "outputs": [
    {
     "data": {
      "text/html": [
       "<div>\n",
       "<style scoped>\n",
       "    .dataframe tbody tr th:only-of-type {\n",
       "        vertical-align: middle;\n",
       "    }\n",
       "\n",
       "    .dataframe tbody tr th {\n",
       "        vertical-align: top;\n",
       "    }\n",
       "\n",
       "    .dataframe thead th {\n",
       "        text-align: right;\n",
       "    }\n",
       "</style>\n",
       "<table border=\"1\" class=\"dataframe\">\n",
       "  <thead>\n",
       "    <tr style=\"text-align: right;\">\n",
       "      <th></th>\n",
       "      <th>TV</th>\n",
       "      <th>Radio</th>\n",
       "      <th>Newspaper</th>\n",
       "      <th>Sales</th>\n",
       "    </tr>\n",
       "  </thead>\n",
       "  <tbody>\n",
       "    <tr>\n",
       "      <th>TV</th>\n",
       "      <td>1.000000</td>\n",
       "      <td>0.054809</td>\n",
       "      <td>0.056648</td>\n",
       "      <td>0.901208</td>\n",
       "    </tr>\n",
       "    <tr>\n",
       "      <th>Radio</th>\n",
       "      <td>0.054809</td>\n",
       "      <td>1.000000</td>\n",
       "      <td>0.354104</td>\n",
       "      <td>0.349631</td>\n",
       "    </tr>\n",
       "    <tr>\n",
       "      <th>Newspaper</th>\n",
       "      <td>0.056648</td>\n",
       "      <td>0.354104</td>\n",
       "      <td>1.000000</td>\n",
       "      <td>0.157960</td>\n",
       "    </tr>\n",
       "    <tr>\n",
       "      <th>Sales</th>\n",
       "      <td>0.901208</td>\n",
       "      <td>0.349631</td>\n",
       "      <td>0.157960</td>\n",
       "      <td>1.000000</td>\n",
       "    </tr>\n",
       "  </tbody>\n",
       "</table>\n",
       "</div>"
      ],
      "text/plain": [
       "                 TV     Radio  Newspaper     Sales\n",
       "TV         1.000000  0.054809   0.056648  0.901208\n",
       "Radio      0.054809  1.000000   0.354104  0.349631\n",
       "Newspaper  0.056648  0.354104   1.000000  0.157960\n",
       "Sales      0.901208  0.349631   0.157960  1.000000"
      ]
     },
     "execution_count": 364,
     "metadata": {},
     "output_type": "execute_result"
    }
   ],
   "source": [
    "data.corr()"
   ]
  },
  {
   "cell_type": "code",
   "execution_count": 365,
   "id": "c614d9b7-d7d7-4410-b618-26832fcd68a7",
   "metadata": {},
   "outputs": [
    {
     "data": {
      "image/png": "[encoded data removed]",
      "text/plain": [
       "<Figure size 640x480 with 2 Axes>"
      ]
     },
     "metadata": {},
     "output_type": "display_data"
    }
   ],
   "source": [
    "# correlation analysis using heatmap\n",
    "correlation_matrix = data.corr()  # Compute correlation matrix\n",
    "sns.heatmap(correlation_matrix, annot=True, cmap='coolwarm', fmt=\".2f\")\n",
    "plt.title(\"Correlation Heatmap\")\n",
    "plt.show()"
   ]
  },
  {
   "cell_type": "markdown",
   "id": "354326ef-3687-4bad-bdfe-4d4a570fab99",
   "metadata": {},
   "source": [
    "### Data Visualization"
   ]
  },
  {
   "cell_type": "code",
   "execution_count": 367,
   "id": "58c1370a-a8ca-47e0-8a0d-ca1f6563eafd",
   "metadata": {},
   "outputs": [
    {
     "data": {
      "image/png": "[encoded data removed]",
      "text/plain": [
       "<Figure size 1000x800 with 4 Axes>"
      ]
     },
     "metadata": {},
     "output_type": "display_data"
    }
   ],
   "source": [
    "data.hist(figsize=(10, 8), bins=20)\n",
    "plt.suptitle(\"Histograms of Variables\")\n",
    "plt.show()\n"
   ]
  },
  {
   "cell_type": "code",
   "execution_count": 368,
   "id": "794af4a7-b288-431c-8f2a-72542ca3bd79",
   "metadata": {},
   "outputs": [
    {
     "data": {
      "image/png": "[encoded data removed]",
      "text/plain": [
       "<Figure size 640x480 with 1 Axes>"
      ]
     },
     "metadata": {},
     "output_type": "display_data"
    }
   ],
   "source": [
    "sns.boxplot(data=data)\n",
    "plt.title(\"Boxplot of Variables\")\n",
    "plt.show()"
   ]
  },
  {
   "cell_type": "code",
   "execution_count": null,
   "id": "5008be7d-38ae-422f-89cd-bdefb677f021",
   "metadata": {},
   "outputs": [],
   "source": [
    "sns.pairplot(data)\n",
    "plt.title(\"Pairplot of Variables\")\n",
    "plt.show()"
   ]
  },
  {
   "cell_type": "code",
   "execution_count": null,
   "id": "2173ed42-6f9b-4f5b-a8c6-86ce6cbfc1d8",
   "metadata": {},
   "outputs": [],
   "source": [
    "sns.boxplot(x='TV', data=data)\n",
    "plt.title(\"Boxplot for TV\")\n",
    "plt.show()\n",
    "\n",
    "sns.boxplot(x='Radio', data=data)\n",
    "plt.title(\"Boxplot for Radio\")\n",
    "plt.show()\n"
   ]
  },
  {
   "cell_type": "code",
   "execution_count": null,
   "id": "f8ce3238-dfb1-4e8e-bb4d-5ed4c727d8e7",
   "metadata": {},
   "outputs": [],
   "source": [
    "sns.scatterplot(x='TV', y='Sales', data=data)\n",
    "plt.title(\"Sales vs TV\")\n",
    "plt.show()\n",
    "\n",
    "sns.scatterplot(x='Radio', y='Sales', data=data)\n",
    "plt.title(\"Sales vs Radio\")\n",
    "plt.show()\n",
    "\n",
    "sns.scatterplot(x='Newspaper', y='Sales', data=data)\n",
    "plt.title(\"Sales vs Newspaper\")\n",
    "plt.show()\n"
   ]
  },
  {
   "cell_type": "code",
   "execution_count": null,
   "id": "d5220ee7-9f18-4d9c-a3bd-d2fd020303e8",
   "metadata": {},
   "outputs": [],
   "source": [
    "sns.lmplot(x='TV', y='Sales', data=data)\n",
    "plt.title('Sales vs TV with Regression Line')\n",
    "plt.show()"
   ]
  },
  {
   "cell_type": "code",
   "execution_count": null,
   "id": "35bb743f-e002-45de-99b7-4e1a92e87cd6",
   "metadata": {},
   "outputs": [],
   "source": [
    "# Plot: Sales vs Radio with regression line\n",
    "sns.lmplot(x='Radio', y='Sales', data=data)\n",
    "plt.title('Sales vs Radio with Regression Line')\n",
    "plt.show()\n"
   ]
  },
  {
   "cell_type": "code",
   "execution_count": null,
   "id": "adcaf732-a9fb-4168-b179-8930c7f1e176",
   "metadata": {},
   "outputs": [],
   "source": [
    "# Plot: Sales vs Newspaper with regression line\n",
    "sns.lmplot(x='Newspaper', y='Sales', data=data)\n",
    "plt.title('Sales vs Newspaper with Regression Line')\n",
    "plt.show()\n"
   ]
  },
  {
   "cell_type": "code",
   "execution_count": null,
   "id": "a1921096-a5c0-441f-93c9-7a84005e793f",
   "metadata": {},
   "outputs": [],
   "source": [
    "# Reshape the data to long format\n",
    "df_long = pd.melt(data, id_vars=['Sales'], value_vars=['TV', 'Radio', 'Newspaper'], \n",
    "                  var_name='Media', value_name='Spending')\n",
    "#all in one graph\n",
    "sns.lmplot(x='Spending', y='Sales', data=df_long, hue='Media', markers=[\"o\", \"s\", \"D\"])\n"
   ]
  },
  {
   "cell_type": "markdown",
   "id": "1a0bdec0-7551-4507-b13d-f0014ea5b3dc",
   "metadata": {},
   "source": [
    "### Spliting the Data into Multiple Inputs(X) & One Target(Y) variables"
   ]
  },
  {
   "cell_type": "code",
   "execution_count": null,
   "id": "e70d8203-ebe4-48da-991d-1a2acbb54172",
   "metadata": {},
   "outputs": [],
   "source": [
    "X = data[['TV', 'Radio', 'Newspaper']]  \n",
    "Y = data['Sales']  "
   ]
  },
  {
   "cell_type": "code",
   "execution_count": null,
   "id": "26efac78-0028-4437-beea-d92ef3e4c726",
   "metadata": {},
   "outputs": [],
   "source": [
    "X.head()"
   ]
  },
  {
   "cell_type": "code",
   "execution_count": null,
   "id": "6ef107d3-d33c-49cd-8e7c-6def49ff3ca6",
   "metadata": {},
   "outputs": [],
   "source": [
    "Y.head()"
   ]
  },
  {
   "cell_type": "markdown",
   "id": "836ce236-74a6-48e3-95a7-e3544fce53ac",
   "metadata": {},
   "source": [
    "### Spliting data into test data & train data"
   ]
  },
  {
   "cell_type": "code",
   "execution_count": null,
   "id": "51721376-1019-4d46-8be9-d279da2b1aa6",
   "metadata": {},
   "outputs": [],
   "source": [
    "from sklearn.model_selection import train_test_split"
   ]
  },
  {
   "cell_type": "code",
   "execution_count": null,
   "id": "07b9cfd7-0a76-4ec8-aef2-c6f27c8d9e85",
   "metadata": {},
   "outputs": [],
   "source": [
    "x_train,x_test,y_train,y_test=train_test_split(X,Y,test_size=0.3,random_state=1)"
   ]
  },
  {
   "cell_type": "markdown",
   "id": "afba0e8f-f2fa-4594-81b9-c7471c12b8d2",
   "metadata": {},
   "source": [
    "### Linear Regression Modeling"
   ]
  },
  {
   "cell_type": "code",
   "execution_count": null,
   "id": "41d1790c-ac1b-4b2a-8814-330c47d334e9",
   "metadata": {},
   "outputs": [],
   "source": [
    "from sklearn.linear_model import LinearRegression"
   ]
  },
  {
   "cell_type": "code",
   "execution_count": null,
   "id": "812d47c7-ed77-4e20-9853-5d51bf90cd93",
   "metadata": {},
   "outputs": [],
   "source": [
    "mlr=LinearRegression()"
   ]
  },
  {
   "cell_type": "code",
   "execution_count": null,
   "id": "1ee5c5aa-1d03-4466-918c-bb234cb0f5eb",
   "metadata": {},
   "outputs": [],
   "source": [
    "mlr.fit(x_train,y_train)"
   ]
  },
  {
   "cell_type": "markdown",
   "id": "96ca3fd2-b761-4fe3-a7cb-b0c8aa617225",
   "metadata": {},
   "source": [
    "### Predictions"
   ]
  },
  {
   "cell_type": "code",
   "execution_count": null,
   "id": "f8669f79-8659-4b71-a039-696862ebb27c",
   "metadata": {},
   "outputs": [],
   "source": [
    "y_pred=mlr.predict(x_test)\n",
    "y_pred"
   ]
  },
  {
   "cell_type": "markdown",
   "id": "84545995-794a-4798-a523-7685d05d403c",
   "metadata": {},
   "source": [
    "### Model Coefficients and Intercept"
   ]
  },
  {
   "cell_type": "code",
   "execution_count": null,
   "id": "6424276c-9694-401c-b186-b5fb7cb3c8a1",
   "metadata": {},
   "outputs": [],
   "source": [
    "print(\"Coefficient:\",mlr.coef_) #m\n",
    "print(\"Intercept:\",mlr.intercept_) #C"
   ]
  },
  {
   "cell_type": "markdown",
   "id": "e739d908-dff3-4ebf-9bcb-36e2c492f9c6",
   "metadata": {},
   "source": [
    "### Visualization of Actual & Predicted Values"
   ]
  },
  {
   "cell_type": "code",
   "execution_count": null,
   "id": "a351dad8-2a1f-4b7e-9f9b-197feab2caec",
   "metadata": {},
   "outputs": [],
   "source": [
    "plt.scatter(range(len(y_test)), y_test, color='blue', label='Actual Values', alpha=0.7)\n",
    "plt.scatter(range(len(y_pred)), y_pred, color='red', label='Predicted Values', alpha=0.7)\n"
   ]
  },
  {
   "cell_type": "code",
   "execution_count": null,
   "id": "0eb8dc57-9368-4d91-b4fe-f1a51b1337f5",
   "metadata": {},
   "outputs": [],
   "source": [
    "# Plotting actual values (y_test) with a line (blue)\n",
    "plt.plot(range(len(y_test)), y_test, color='blue', label='Actual Values', linestyle='-', marker='o')\n",
    "\n",
    "# Plotting predicted values (y_pred) with a line (red)\n",
    "plt.plot(range(len(y_pred)), y_pred, color='red', label='Predicted Values', linestyle='--', marker='x')\n"
   ]
  },
  {
   "cell_type": "markdown",
   "id": "933cf177-6ac9-438f-b1cc-7950000f75ba",
   "metadata": {},
   "source": [
    "### Performance Metrics for Regression Models: MAE, MSE, and RMSE"
   ]
  },
  {
   "cell_type": "code",
   "execution_count": null,
   "id": "c4ac40cc-5fa4-48ad-bbcd-1a8a98a5a7cf",
   "metadata": {},
   "outputs": [],
   "source": [
    "from sklearn.metrics import mean_absolute_error,mean_squared_error\n",
    "print(mean_absolute_error(y_test,y_pred))\n",
    "print(mean_squared_error(y_test,y_pred))\n",
    "print(np.sqrt(mean_squared_error(y_test,y_pred)))"
   ]
  },
  {
   "cell_type": "markdown",
   "id": "7a3b0bfe-222c-4d56-9c43-264af2fe1484",
   "metadata": {},
   "source": [
    "### Creating DataFrame to view Results"
   ]
  },
  {
   "cell_type": "code",
   "execution_count": null,
   "id": "827d943d-4781-4d29-b979-560f71789e91",
   "metadata": {},
   "outputs": [],
   "source": [
    "Results=pd.DataFrame(columns=['Actual_Sales','Predicted_Sales'])\n",
    "Results['Actual_Sales']=y_test\n",
    "Results['Predicted_Sales']=y_pred\n",
    "Results=Results.reset_index()\n",
    "Results['Id']=Results.index\n",
    "Results.head()"
   ]
  },
  {
   "cell_type": "markdown",
   "id": "6ab0b466-54b6-47a2-b7ba-e64a444d2267",
   "metadata": {},
   "source": [
    "### r2 value calculations"
   ]
  },
  {
   "cell_type": "code",
   "execution_count": null,
   "id": "0b149f01-7714-4a3e-ba6a-18812ea2a0ca",
   "metadata": {},
   "outputs": [],
   "source": [
    "from sklearn.metrics import r2_score"
   ]
  },
  {
   "cell_type": "code",
   "execution_count": null,
   "id": "50a6d03f-0c93-47b9-8bbe-994dd6b3f818",
   "metadata": {},
   "outputs": [],
   "source": [
    "r2=r2_score(y_test,y_pred)\n",
    "r2"
   ]
  },
  {
   "cell_type": "markdown",
   "id": "1aa77b93-82c0-4e77-afcb-35f717f74d9a",
   "metadata": {},
   "source": [
    "### Conclusion"
   ]
  },
  {
   "cell_type": "markdown",
   "id": "9a761b8f-31dc-4a98-a691-854e460659f4",
   "metadata": {},
   "source": [
    "Based on the results from the Multiple Linear Regression (MLR) model, the \n",
    "𝑅\n",
    "2\n",
    "  value of 0.9071 indicates that approximately 90.71% of the variance in the dependent variable (Sales) can be explained by the independent variables used in the model. This is a strong indication that the model is well-fitting and has high predictive power."
   ]
  },
  {
   "cell_type": "markdown",
   "id": "a89cfc41-cdd6-497b-b883-f5b16f3bcf37",
   "metadata": {},
   "source": [
    "The multiple linear regression model explains 90.71% of the variance in the sales data, which is a good result. However, the prediction errors indicate that there might be room for improvement, particularly for higher sales values"
   ]
  },
  {
   "cell_type": "markdown",
   "id": "169466bd-b51f-4203-9878-2304701c9502",
   "metadata": {},
   "source": [
    "Overall, the model demonstrates a strong ability to predict sales based on the available features, with the \n",
    "𝑅\n",
    "2\n",
    "  value confirming its effectiveness. However, there may still be potential for further model refinement, such as through feature engineering, addressing any outliers, or trying more complex models, to reduce the small prediction errors seen in certain instances."
   ]
  },
  {
   "cell_type": "code",
   "execution_count": null,
   "id": "173ee3f7-8287-4130-8144-d64167991d88",
   "metadata": {},
   "outputs": [],
   "source": [
    "# END"
   ]
  }
 ],
 "metadata": {
  "kernelspec": {
   "display_name": "Python 3 (ipykernel)",
   "language": "python",
   "name": "python3"
  },
  "language_info": {
   "codemirror_mode": {
    "name": "ipython",
    "version": 3
   },
   "file_extension": ".py",
   "mimetype": "text/x-python",
   "name": "python",
   "nbconvert_exporter": "python",
   "pygments_lexer": "ipython3",
   "version": "3.12.4"
  }
 },
 "nbformat": 4,
 "nbformat_minor": 5
}
