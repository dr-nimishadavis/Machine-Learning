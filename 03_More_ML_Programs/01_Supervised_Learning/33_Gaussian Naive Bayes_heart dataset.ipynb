{
 "cells": [
  {
   "cell_type": "markdown",
   "id": "e750f155-dcd2-41f2-bb59-3b91f4bb3cee",
   "metadata": {},
   "source": [
    "### Gaussian Naive Bayes"
   ]
  },
  {
   "cell_type": "code",
   "execution_count": 2,
   "id": "0148b578-0064-4844-bdf1-023772f6752c",
   "metadata": {},
   "outputs": [],
   "source": [
    "import numpy as np\n",
    "import pandas as pd\n",
    "import seaborn as sns\n",
    "import matplotlib.pyplot as plt"
   ]
  },
  {
   "cell_type": "markdown",
   "id": "e8de7e8b-cf8a-4d85-bbef-91cdfbb18f45",
   "metadata": {},
   "source": [
    "### EDA"
   ]
  },
  {
   "cell_type": "code",
   "execution_count": 5,
   "id": "8c50193e-6d74-4fe9-91a2-fd4ceafbf65e",
   "metadata": {},
   "outputs": [
    {
     "data": {
      "text/html": [
       "<div>\n",
       "<style scoped>\n",
       "    .dataframe tbody tr th:only-of-type {\n",
       "        vertical-align: middle;\n",
       "    }\n",
       "\n",
       "    .dataframe tbody tr th {\n",
       "        vertical-align: top;\n",
       "    }\n",
       "\n",
       "    .dataframe thead th {\n",
       "        text-align: right;\n",
       "    }\n",
       "</style>\n",
       "<table border=\"1\" class=\"dataframe\">\n",
       "  <thead>\n",
       "    <tr style=\"text-align: right;\">\n",
       "      <th></th>\n",
       "      <th>age</th>\n",
       "      <th>sex</th>\n",
       "      <th>cp</th>\n",
       "      <th>trestbps</th>\n",
       "      <th>chol</th>\n",
       "      <th>fbs</th>\n",
       "      <th>restecg</th>\n",
       "      <th>thalach</th>\n",
       "      <th>exang</th>\n",
       "      <th>oldpeak</th>\n",
       "      <th>slope</th>\n",
       "      <th>ca</th>\n",
       "      <th>thal</th>\n",
       "      <th>target</th>\n",
       "    </tr>\n",
       "  </thead>\n",
       "  <tbody>\n",
       "    <tr>\n",
       "      <th>0</th>\n",
       "      <td>52</td>\n",
       "      <td>1</td>\n",
       "      <td>0</td>\n",
       "      <td>125</td>\n",
       "      <td>212</td>\n",
       "      <td>0</td>\n",
       "      <td>1</td>\n",
       "      <td>168</td>\n",
       "      <td>0</td>\n",
       "      <td>1.0</td>\n",
       "      <td>2</td>\n",
       "      <td>2</td>\n",
       "      <td>3</td>\n",
       "      <td>0</td>\n",
       "    </tr>\n",
       "    <tr>\n",
       "      <th>1</th>\n",
       "      <td>53</td>\n",
       "      <td>1</td>\n",
       "      <td>0</td>\n",
       "      <td>140</td>\n",
       "      <td>203</td>\n",
       "      <td>1</td>\n",
       "      <td>0</td>\n",
       "      <td>155</td>\n",
       "      <td>1</td>\n",
       "      <td>3.1</td>\n",
       "      <td>0</td>\n",
       "      <td>0</td>\n",
       "      <td>3</td>\n",
       "      <td>0</td>\n",
       "    </tr>\n",
       "    <tr>\n",
       "      <th>2</th>\n",
       "      <td>70</td>\n",
       "      <td>1</td>\n",
       "      <td>0</td>\n",
       "      <td>145</td>\n",
       "      <td>174</td>\n",
       "      <td>0</td>\n",
       "      <td>1</td>\n",
       "      <td>125</td>\n",
       "      <td>1</td>\n",
       "      <td>2.6</td>\n",
       "      <td>0</td>\n",
       "      <td>0</td>\n",
       "      <td>3</td>\n",
       "      <td>0</td>\n",
       "    </tr>\n",
       "    <tr>\n",
       "      <th>3</th>\n",
       "      <td>61</td>\n",
       "      <td>1</td>\n",
       "      <td>0</td>\n",
       "      <td>148</td>\n",
       "      <td>203</td>\n",
       "      <td>0</td>\n",
       "      <td>1</td>\n",
       "      <td>161</td>\n",
       "      <td>0</td>\n",
       "      <td>0.0</td>\n",
       "      <td>2</td>\n",
       "      <td>1</td>\n",
       "      <td>3</td>\n",
       "      <td>0</td>\n",
       "    </tr>\n",
       "    <tr>\n",
       "      <th>4</th>\n",
       "      <td>62</td>\n",
       "      <td>0</td>\n",
       "      <td>0</td>\n",
       "      <td>138</td>\n",
       "      <td>294</td>\n",
       "      <td>1</td>\n",
       "      <td>1</td>\n",
       "      <td>106</td>\n",
       "      <td>0</td>\n",
       "      <td>1.9</td>\n",
       "      <td>1</td>\n",
       "      <td>3</td>\n",
       "      <td>2</td>\n",
       "      <td>0</td>\n",
       "    </tr>\n",
       "  </tbody>\n",
       "</table>\n",
       "</div>"
      ],
      "text/plain": [
       "   age  sex  cp  trestbps  chol  fbs  restecg  thalach  exang  oldpeak  slope  \\\n",
       "0   52    1   0       125   212    0        1      168      0      1.0      2   \n",
       "1   53    1   0       140   203    1        0      155      1      3.1      0   \n",
       "2   70    1   0       145   174    0        1      125      1      2.6      0   \n",
       "3   61    1   0       148   203    0        1      161      0      0.0      2   \n",
       "4   62    0   0       138   294    1        1      106      0      1.9      1   \n",
       "\n",
       "   ca  thal  target  \n",
       "0   2     3       0  \n",
       "1   0     3       0  \n",
       "2   0     3       0  \n",
       "3   1     3       0  \n",
       "4   3     2       0  "
      ]
     },
     "execution_count": 5,
     "metadata": {},
     "output_type": "execute_result"
    }
   ],
   "source": [
    "data=pd.read_csv('data/heart (1) (2).csv')\n",
    "data.head()"
   ]
  },
  {
   "cell_type": "code",
   "execution_count": 7,
   "id": "53729434-b227-4993-97d8-91f32b82c8fb",
   "metadata": {},
   "outputs": [
    {
     "data": {
      "text/plain": [
       "Index(['age', 'sex', 'cp', 'trestbps', 'chol', 'fbs', 'restecg', 'thalach',\n",
       "       'exang', 'oldpeak', 'slope', 'ca', 'thal', 'target'],\n",
       "      dtype='object')"
      ]
     },
     "execution_count": 7,
     "metadata": {},
     "output_type": "execute_result"
    }
   ],
   "source": [
    "data.columns"
   ]
  },
  {
   "cell_type": "code",
   "execution_count": 9,
   "id": "a70c20f9-cdc8-419b-8bd8-57a143381b68",
   "metadata": {},
   "outputs": [
    {
     "data": {
      "text/plain": [
       "723"
      ]
     },
     "execution_count": 9,
     "metadata": {},
     "output_type": "execute_result"
    }
   ],
   "source": [
    "data.duplicated().sum()"
   ]
  },
  {
   "cell_type": "code",
   "execution_count": 11,
   "id": "5b5d2979-4b0e-43bf-9fef-3ab6f564b89c",
   "metadata": {},
   "outputs": [],
   "source": [
    "data = data.drop_duplicates()"
   ]
  },
  {
   "cell_type": "code",
   "execution_count": 13,
   "id": "d975efd7-ba68-44e4-af5a-48713a9c7b3e",
   "metadata": {},
   "outputs": [
    {
     "data": {
      "text/plain": [
       "0"
      ]
     },
     "execution_count": 13,
     "metadata": {},
     "output_type": "execute_result"
    }
   ],
   "source": [
    "data.duplicated().sum()"
   ]
  },
  {
   "cell_type": "code",
   "execution_count": 15,
   "id": "b3d09eb4-8ffe-404c-8c1f-5161da793718",
   "metadata": {},
   "outputs": [
    {
     "data": {
      "text/plain": [
       "age         0\n",
       "sex         0\n",
       "cp          0\n",
       "trestbps    0\n",
       "chol        0\n",
       "fbs         0\n",
       "restecg     0\n",
       "thalach     0\n",
       "exang       0\n",
       "oldpeak     0\n",
       "slope       0\n",
       "ca          0\n",
       "thal        0\n",
       "target      0\n",
       "dtype: int64"
      ]
     },
     "execution_count": 15,
     "metadata": {},
     "output_type": "execute_result"
    }
   ],
   "source": [
    "data.isna().sum()"
   ]
  },
  {
   "cell_type": "markdown",
   "id": "3585e283-771a-4587-87f7-10a446c216ca",
   "metadata": {},
   "source": [
    "### Splitting X & Y"
   ]
  },
  {
   "cell_type": "code",
   "execution_count": 18,
   "id": "f6a36caa-a1b6-4e03-b12b-06599f30bd56",
   "metadata": {},
   "outputs": [],
   "source": [
    "X=data.drop('target',axis=1)\n",
    "Y=data['target']"
   ]
  },
  {
   "cell_type": "markdown",
   "id": "e8fdc397-65df-45c5-9bf3-3df0d24db5f3",
   "metadata": {},
   "source": [
    "### Scaling"
   ]
  },
  {
   "cell_type": "code",
   "execution_count": 24,
   "id": "1d7bf45a-699f-4dd0-87d7-1ccf03865d0a",
   "metadata": {},
   "outputs": [
    {
     "data": {
      "text/plain": [
       "array([[-0.26796589,  0.68265615, -0.93520799, ...,  0.97951442,\n",
       "         1.27497996,  1.11996657],\n",
       "       [-0.15726042,  0.68265615, -0.93520799, ..., -2.27118179,\n",
       "        -0.71491124,  1.11996657],\n",
       "       [ 1.72473259,  0.68265615, -0.93520799, ..., -2.27118179,\n",
       "        -0.71491124,  1.11996657],\n",
       "       ...,\n",
       "       [-0.26796589,  0.68265615, -0.93520799, ...,  0.97951442,\n",
       "         0.28003436,  1.11996657],\n",
       "       [ 0.50697241,  0.68265615,  1.97647049, ...,  0.97951442,\n",
       "        -0.71491124, -0.51399432],\n",
       "       [-0.04655495,  0.68265615, -0.93520799, ..., -0.64583368,\n",
       "         0.28003436,  1.11996657]])"
      ]
     },
     "execution_count": 24,
     "metadata": {},
     "output_type": "execute_result"
    }
   ],
   "source": [
    "from sklearn.preprocessing import StandardScaler,MinMaxScaler\n",
    "sd=StandardScaler()\n",
    "X_fit=sd.fit_transform(X)\n",
    "X_fit"
   ]
  },
  {
   "cell_type": "markdown",
   "id": "f791bea8-97c2-4e0d-9c50-743ea22b081b",
   "metadata": {},
   "source": [
    "### Splitting into test & train data"
   ]
  },
  {
   "cell_type": "code",
   "execution_count": 28,
   "id": "811cd45f-3bfd-4ef5-8c1e-514c5cdd60b3",
   "metadata": {},
   "outputs": [],
   "source": [
    "from sklearn.model_selection import train_test_split\n",
    "x_train,x_test,y_train,y_test=train_test_split(X_fit,Y,test_size=0.39,random_state=42)"
   ]
  },
  {
   "cell_type": "markdown",
   "id": "b9c963d4-bdf9-43f6-9249-f1f2b1d0e5e2",
   "metadata": {},
   "source": [
    "### Gaussian Naive Bayes"
   ]
  },
  {
   "cell_type": "code",
   "execution_count": 54,
   "id": "a8c1139d-348d-4e01-b772-381acd838b1c",
   "metadata": {},
   "outputs": [
    {
     "name": "stdout",
     "output_type": "stream",
     "text": [
      "accuracy:83.05084745762711\n",
      "Classification Report:\n",
      "              precision    recall  f1-score   support\n",
      "\n",
      "           0       0.86      0.80      0.83        60\n",
      "           1       0.81      0.86      0.83        58\n",
      "\n",
      "    accuracy                           0.83       118\n",
      "   macro avg       0.83      0.83      0.83       118\n",
      "weighted avg       0.83      0.83      0.83       118\n",
      "\n",
      "Confusion Matrix:\n",
      "[[48 12]\n",
      " [ 8 50]]\n"
     ]
    }
   ],
   "source": [
    "from sklearn.naive_bayes import GaussianNB\n",
    "gb=GaussianNB()\n",
    "gb.fit(x_train,y_train)\n",
    "pred=gb.predict(x_test)\n",
    "\n",
    "from sklearn.metrics import accuracy_score, confusion_matrix, classification_report\n",
    "\n",
    "# Accuracy\n",
    "from sklearn.metrics import accuracy_score\n",
    "print(f\"accuracy:{accuracy_score(y_test,pred)*100}\")\n",
    "\n",
    "# Classification Report\n",
    "cr = classification_report(y_test, pred)\n",
    "print(f\"Classification Report:\\n{cr}\")\n",
    "\n",
    "# Confusion Matrix\n",
    "cm = confusion_matrix(y_test, pred)\n",
    "print(f\"Confusion Matrix:\\n{cm}\")"
   ]
  },
  {
   "cell_type": "markdown",
   "id": "2e783112-5501-477a-b9d8-450d3669953f",
   "metadata": {},
   "source": [
    "### KNN"
   ]
  },
  {
   "cell_type": "code",
   "execution_count": 38,
   "id": "606a7e1b-93c9-47d8-b23d-ebc2fc8a87c3",
   "metadata": {},
   "outputs": [
    {
     "name": "stdout",
     "output_type": "stream",
     "text": [
      "accuracy 74.57627118644068\n",
      "Classification Report:\n",
      "              precision    recall  f1-score   support\n",
      "\n",
      "           0       0.80      0.67      0.73        60\n",
      "           1       0.71      0.83      0.76        58\n",
      "\n",
      "    accuracy                           0.75       118\n",
      "   macro avg       0.75      0.75      0.74       118\n",
      "weighted avg       0.75      0.75      0.74       118\n",
      "\n",
      "Confusion Matrix:\n",
      "[[40 20]\n",
      " [10 48]]\n"
     ]
    }
   ],
   "source": [
    "from sklearn.neighbors import KNeighborsClassifier\n",
    "from sklearn.metrics import accuracy_score, confusion_matrix, classification_report\n",
    "knn=KNeighborsClassifier(n_neighbors=3)\n",
    "knn.fit(x_train,y_train)\n",
    "y_pred = knn.predict(x_test)\n",
    "\n",
    "# Accuracy\n",
    "from sklearn.metrics import accuracy_score\n",
    "print(f\"accuracy {accuracy_score(y_test,y_pred)*100}\")\n",
    "\n",
    "# Classification Report\n",
    "cr = classification_report(y_test, y_pred)\n",
    "print(f\"Classification Report:\\n{cr}\")\n",
    "\n",
    "# Confusion Matrix\n",
    "cm = confusion_matrix(y_test, y_pred)\n",
    "print(f\"Confusion Matrix:\\n{cm}\")"
   ]
  },
  {
   "cell_type": "markdown",
   "id": "a7fe77c3-84bf-4103-8e8e-1c7486545d02",
   "metadata": {},
   "source": [
    "### Logistic regression"
   ]
  },
  {
   "cell_type": "code",
   "execution_count": 41,
   "id": "bd540e40-9e15-41bc-901d-190c29d04387",
   "metadata": {},
   "outputs": [
    {
     "name": "stdout",
     "output_type": "stream",
     "text": [
      "accuracy:79.66101694915254\n",
      "Classification Report:\n",
      "              precision    recall  f1-score   support\n",
      "\n",
      "           0       0.82      0.77      0.79        60\n",
      "           1       0.77      0.83      0.80        58\n",
      "\n",
      "    accuracy                           0.80       118\n",
      "   macro avg       0.80      0.80      0.80       118\n",
      "weighted avg       0.80      0.80      0.80       118\n",
      "\n",
      "Confusion Matrix:\n",
      "[[46 14]\n",
      " [10 48]]\n"
     ]
    }
   ],
   "source": [
    "from sklearn.linear_model import LogisticRegression\n",
    "logreg = LogisticRegression()\n",
    "logreg.fit(x_train, y_train)\n",
    "y_pred_logreg = logreg.predict(x_test)\n",
    "\n",
    "# Accuracy\n",
    "from sklearn.metrics import accuracy_score\n",
    "print(f\"accuracy:{accuracy_score(y_test,y_pred_logreg)*100}\")\n",
    "\n",
    "\n",
    "# Classification Report\n",
    "cr = classification_report(y_test, y_pred_logreg)\n",
    "print(f\"Classification Report:\\n{cr}\")\n",
    "\n",
    "# Confusion Matrix\n",
    "cm = confusion_matrix(y_test, y_pred_logreg)\n",
    "print(f\"Confusion Matrix:\\n{cm}\")"
   ]
  },
  {
   "cell_type": "code",
   "execution_count": 62,
   "id": "0c5081c7-9efd-4fe3-87db-f61abfe6b1d0",
   "metadata": {},
   "outputs": [
    {
     "name": "stdout",
     "output_type": "stream",
     "text": [
      "Gaussian Naive Bayes Accuracy:83.05084745762711\n",
      "KNN accuracy 74.57627118644068\n",
      "Logistic Regression accuracy:79.66101694915254\n"
     ]
    }
   ],
   "source": [
    "print(f\"Gaussian Naive Bayes Accuracy:{accuracy_score(y_test,pred)*100}\")\n",
    "print(f\"KNN accuracy {accuracy_score(y_test,y_pred)*100}\")\n",
    "print(f\"Logistic Regression accuracy:{accuracy_score(y_test,y_pred_logreg)*100}\")\n"
   ]
  },
  {
   "cell_type": "raw",
   "id": "c9a7169c-782d-40c9-84d5-2f2d90a3559b",
   "metadata": {},
   "source": [
    "Final Takeaway:\n",
    "========================\n",
    "Gaussian Naive Bayes performs best among the three models in this case, suggesting that the Gaussian assumption about feature distribution aligns well with the data characteristics.\n",
    "\n",
    "Gaussian Naive Bayes is the best-performing model for this dataset with the highest accuracy (83.05%). It is likely benefiting from its assumption of feature independence and Gaussian distribution.\n",
    "Consider using Naive Bayes for further predictions on this dataset unless interpretability or specific application requirements (e.g., sensitivity to false positives/negatives) suggest otherwise."
   ]
  },
  {
   "cell_type": "raw",
   "id": "9269279b-ed36-4686-a965-9dffec30b08c",
   "metadata": {},
   "source": [
    "Recommendations:\n",
    "===============================\n",
    "Feature Scaling:\n",
    "For KNN and Logistic Regression, ensure features are properly scaled (e.g., using MinMaxScaler or StandardScaler).\n",
    "Hyperparameter Tuning:\n",
    "KNN: Experiment with different values of k and distance metrics.\n",
    "Logistic Regression: Tune parameters like the regularization strength (C).\n",
    "Cross-Validation:\n",
    "Use k-fold cross-validation to validate model performance and avoid overfitting."
   ]
  },
  {
   "cell_type": "code",
   "execution_count": 64,
   "id": "f2c2c7dc-32d8-4452-a1ff-f420f6f37856",
   "metadata": {},
   "outputs": [],
   "source": [
    "#END"
   ]
  }
 ],
 "metadata": {
  "kernelspec": {
   "display_name": "Python 3 (ipykernel)",
   "language": "python",
   "name": "python3"
  },
  "language_info": {
   "codemirror_mode": {
    "name": "ipython",
    "version": 3
   },
   "file_extension": ".py",
   "mimetype": "text/x-python",
   "name": "python",
   "nbconvert_exporter": "python",
   "pygments_lexer": "ipython3",
   "version": "3.12.4"
  }
 },
 "nbformat": 4,
 "nbformat_minor": 5
}
